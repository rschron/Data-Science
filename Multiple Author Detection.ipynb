{
 "cells": [
  {
   "cell_type": "markdown",
   "metadata": {},
   "source": [
    "# Multiple Author Detection Project"
   ]
  },
  {
   "cell_type": "code",
   "execution_count": 1,
   "metadata": {},
   "outputs": [],
   "source": [
    "import numpy as np\n",
    "import pandas as pd\n",
    "from sklearn.feature_extraction.text import CountVectorizer, TfidfTransformer, TfidfVectorizer\n",
    "from sklearn.pipeline import Pipeline\n",
    "from sklearn.naive_bayes import BernoulliNB, MultinomialNB\n",
    "from sklearn.neighbors import KNeighborsClassifier\n",
    "from sklearn.model_selection import train_test_split\n",
    "from sklearn import metrics\n",
    "from sklearn.svm import SVC\n",
    "from nltk import SnowballStemmer\n",
    "import matplotlib.pyplot as plt\n",
    "import time\n",
    "import json\n",
    "import os\n",
    "\n",
    "%matplotlib inline"
   ]
  },
  {
   "cell_type": "markdown",
   "metadata": {},
   "source": [
    "### Data Aggregation\n",
    "\n",
    "The first step was to aggregate the data into a Pandas dataframe so that analysis could be performed.  Each of the three groups of data files (training, test, and validation sets) were parsed and combined into separate dataframes for each set.  The JSON files containing class labels were also parsed and joined to their respective text files creating three dataframes of two columns each."
   ]
  },
  {
   "cell_type": "code",
   "execution_count": 2,
   "metadata": {},
   "outputs": [],
   "source": [
    "def DataAggregator(path):\n",
    "    \"\"\"Reads in all files within a given folder path and builds a dataframe of two columns.\n",
    "    The first column is the text and the second the labels identifying the text class.\"\"\"\n",
    "    text_dict = {}  #Create a dictionary of text files with the file number as the key\n",
    "    json_dict = {}  #Create a dictionary of labels with the file number as the key\n",
    "    label_df = pd.DataFrame(columns=['changes', 'positions','file'])\n",
    "\n",
    "    for file in os.listdir(path):  #Scan through all files in the folder\n",
    "        if file.endswith('.txt'):   #If the file contains text, append to text_dict\n",
    "            with open(path+file, 'r', encoding='utf-8') as myfile:\n",
    "                text_dict[file.replace('problem-', '').replace('.txt', '')] = myfile.read().replace('\\n', '')  #Create the key\n",
    "        else:   #If the file is JSON, add the label to json_dict\n",
    "            with open(path+file, 'r', encoding='utf-8') as myfile:\n",
    "                data = json.load(myfile)\n",
    "                json_dict[file.replace('problem-', '').replace('.truth', '')] = data['changes']  #Create the key\n",
    "\n",
    "    df = pd.DataFrame(list(text_dict.items()), columns=['file', 'text'])\n",
    "    label_df = pd.DataFrame(list(json_dict.items()), columns = ['file', 'changes'])\n",
    "\n",
    "    output_df = df.merge(label_df,on='file')  #Join the dataframes\n",
    "    output_df = output_df.drop('file', axis = 1)  #Drop the file number column\n",
    "    return output_df"
   ]
  },
  {
   "cell_type": "code",
   "execution_count": 4,
   "metadata": {},
   "outputs": [],
   "source": [
    "#Convert the data sets to data frames\n",
    "test_df = DataAggregator('E:/CESC621/Data-Science/Data/pan18-style-change-detection-test-dataset-2018-01-31/')\n",
    "training_df = DataAggregator('E:/CESC621/Data-Science/Data/pan18-style-change-detection-training-dataset-2018-01-31/')\n",
    "validation_df = DataAggregator('E:/CESC621/Data-Science/Data/pan18-style-change-detection-validation-dataset-2018-01-31/')\n"
   ]
  },
  {
   "cell_type": "code",
   "execution_count": 5,
   "metadata": {},
   "outputs": [
    {
     "name": "stdout",
     "output_type": "stream",
     "text": [
      "Training Text: 2980, Training Labels: 2980\n",
      "Test Text: 1352, Test Labels: 1352\n",
      "Validation Text: 1492, Validation Labels: 1492\n"
     ]
    }
   ],
   "source": [
    "#Split the data into text and labels\n",
    "training_labels = training_df['changes']\n",
    "validation_labels = validation_df['changes']\n",
    "test_labels = test_df['changes']\n",
    "\n",
    "training_text = training_df['text']\n",
    "validation_text = validation_df['text']\n",
    "test_text = test_df['text']\n",
    "\n",
    "#Check that the dataframes are symmetric to test parse quality\n",
    "print(\"Training Text: \" + str(len(training_text)) + \", Training Labels: \" + str(len(training_labels)))\n",
    "print(\"Test Text: \" + str(len(test_text)) + \", Test Labels: \" + str(len(test_labels)))\n",
    "print(\"Validation Text: \" + str(len(validation_text)) + \", Validation Labels: \" + str(len(validation_labels)))"
   ]
  },
  {
   "cell_type": "code",
   "execution_count": 6,
   "metadata": {},
   "outputs": [
    {
     "name": "stdout",
     "output_type": "stream",
     "text": [
      "Training Text: 4472, Training Labels: 4472\n"
     ]
    }
   ],
   "source": [
    "#Merge the training and validation sets into a new training set, as only a single training\n",
    "#and test set are required for this analysis\n",
    "new_train_text = training_text.append(validation_text)\n",
    "new_train_labels = training_labels .append(validation_labels)\n",
    "print(\"Training Text: \" + str(len(new_train_text)) + \", Training Labels: \" + str(len(new_train_labels)))"
   ]
  },
  {
   "cell_type": "markdown",
   "metadata": {},
   "source": [
    "### Parameter Testing"
   ]
  },
  {
   "cell_type": "markdown",
   "metadata": {},
   "source": [
    "Before classification, a few hypotheses were tested to find parameters that allow for accurate classification.  The first is to test using n-grams of different sizes.  Single words are not expected to suffice as detecting multiple authors will heavily rely on different writing styles.\n",
    "\n",
    "After testing n-gram sizes, a bag of word counts model is compared to a TF-IDF model."
   ]
  },
  {
   "cell_type": "code",
   "execution_count": 37,
   "metadata": {},
   "outputs": [],
   "source": [
    "#Test ngram size using a Multinomial Naive Bayes classifer\n",
    "ngrams = [(1,1),(1,2), (1,3), (1,4), (1,5), (1,6), (1,7), (1,8), (1,9), (1,10)]\n",
    "\n",
    "accuracy_count = []\n",
    "accuracy_tfidf = []\n",
    "\n",
    "clf = MultinomialNB()\n",
    "\n",
    "for ngram in ngrams:\n",
    "    X_train, X_test = train_test_split(training_df)\n",
    "    vec = CountVectorizer(strip_accents = 'ascii', ngram_range = ngram, analyzer = 'word', stop_words='english')\n",
    "    training_text = vec.fit_transform(X_train['text'])\n",
    "    testing_text = vec.transform(X_test['text'])\n",
    "    \n",
    "    clf.fit(training_text, X_train['changes'])\n",
    "    pred = clf.predict(testing_text)\n",
    "    \n",
    "    accuracy_count.append(metrics.accuracy_score(pred, X_test['changes']))\n",
    "  \n",
    "#Test if accuracy is improved using TF-IDF rather than word counts\n",
    "for ngram in ngrams:\n",
    "    X_train, X_test = train_test_split(training_df)\n",
    "    vec = TfidfVectorizer(strip_accents = 'ascii', ngram_range = ngram, analyzer = 'word', stop_words='english')\n",
    "    training_text = vec.fit_transform(X_train['text'])\n",
    "    testing_text = vec.transform(X_test['text'])\n",
    "    \n",
    "    clf.fit(training_text, X_train['changes'])\n",
    "    pred = clf.predict(testing_text)\n",
    "    \n",
    "    accuracy_tfidf.append(metrics.accuracy_score(pred, X_test['changes']))"
   ]
  },
  {
   "cell_type": "code",
   "execution_count": 8,
   "metadata": {},
   "outputs": [
    {
     "name": "stdout",
     "output_type": "stream",
     "text": [
      "[0.7221476510067114, 0.836241610738255, 0.825503355704698, 0.8402684563758389, 0.8590604026845637, 0.8322147651006712, 0.8442953020134228, 0.7758389261744967, 0.8429530201342282, 0.763758389261745]\n",
      "[0.7409395973154362, 0.8120805369127517, 0.825503355704698, 0.825503355704698, 0.8067114093959732, 0.7973154362416107, 0.8429530201342282, 0.8067114093959732, 0.8026845637583893, 0.763758389261745]\n"
     ]
    }
   ],
   "source": [
    "print(accuracy_count)\n",
    "print(accuracy_tfidf)"
   ]
  },
  {
   "cell_type": "markdown",
   "metadata": {},
   "source": [
    "Using n-grams helps the accuracy of the classifier and there isn't a significant difference between the models.\n",
    "\n",
    "Next, test whether stemming the words helps classification."
   ]
  },
  {
   "cell_type": "code",
   "execution_count": 9,
   "metadata": {},
   "outputs": [
    {
     "name": "stdout",
     "output_type": "stream",
     "text": [
      "0.661744966442953\n"
     ]
    }
   ],
   "source": [
    "stemmer = SnowballStemmer('english')\n",
    "\n",
    "X_train, X_test = train_test_split(training_df)\n",
    "vec = TfidfVectorizer(tokenizer=stemmer.stem, strip_accents = 'ascii', ngram_range=(1,3), analyzer='word', stop_words='english')\n",
    "stemmed_train_text = vec.fit_transform(X_train['text'])\n",
    "stemmed_test_text = vec.transform(X_test['text'])\n",
    "\n",
    "clf = BernoulliNB()\n",
    "\n",
    "clf.fit(stemmed_train_text, X_train['changes'])\n",
    "pred = clf.predict(stemmed_test_text)\n",
    "\n",
    "print(metrics.accuracy_score(pred, X_test['changes']))"
   ]
  },
  {
   "cell_type": "markdown",
   "metadata": {},
   "source": [
    "Stemming words causes a large drop in accuracy, likely due to masking writing style when multiple authors are involved.  This causes classification to only be dependant on word choice, which isn't a strong predictor without specific author labels."
   ]
  },
  {
   "cell_type": "markdown",
   "metadata": {},
   "source": [
    "### Data Preprocessing"
   ]
  },
  {
   "cell_type": "markdown",
   "metadata": {},
   "source": [
    "After identifying pre-processing conditions for analysis, 4 algorithms are tested.  They are Bernoulli Naive Bayes, Multinomial Naive bayes, Support Vector, and K-Nearest Neighbor classifiers."
   ]
  },
  {
   "cell_type": "code",
   "execution_count": 10,
   "metadata": {},
   "outputs": [],
   "source": [
    "#Build data pipelines\n",
    "NB_pipeline = Pipeline([('vect', CountVectorizer(strip_accents = 'ascii', ngram_range=(1,5), analyzer='word', stop_words='english')),\n",
    "                        ('tfidf', TfidfTransformer()),\n",
    "                        ('clf', BernoulliNB())])\n",
    "\n",
    "MNB_pipeline = Pipeline([('vect', CountVectorizer(strip_accents = 'ascii', ngram_range=(1,5), analyzer='word', stop_words='english')),\n",
    "                        ('tfidf', TfidfTransformer()),\n",
    "                        ('clf', MultinomialNB())])\n",
    "\n",
    "SVC_pipeline = Pipeline([('vect', CountVectorizer(strip_accents = 'ascii', ngram_range=(1,5), analyzer='word', stop_words='english')),\n",
    "                         ('tfidf', TfidfTransformer()),\n",
    "                         ('clf', SVC(C=0.5, probability=True))])\n",
    "\n",
    "KNN_pipeline = Pipeline([('vect', CountVectorizer(strip_accents = 'ascii', ngram_range=(1,5), analyzer='word', stop_words='english')),\n",
    "                         ('tfidf', TfidfTransformer()),\n",
    "                         ('clf', KNeighborsClassifier(10))])\n"
   ]
  },
  {
   "cell_type": "markdown",
   "metadata": {},
   "source": [
    "### Testing Classifiers\n",
    "\n",
    "After creating the classifier objects, all algorithms are trained on the combined training and validation data, and tested on the test set.  Below are accuracy scores and the associated confusion matrices."
   ]
  },
  {
   "cell_type": "code",
   "execution_count": 11,
   "metadata": {},
   "outputs": [
    {
     "name": "stdout",
     "output_type": "stream",
     "text": [
      "Bernoulli Naive Bayes Accuracy: 0.9068047337278107 -- Run time 30.302271127700806\n",
      "[[593  83]\n",
      " [ 43 633]]\n"
     ]
    }
   ],
   "source": [
    "#Train the models and fit to the validation set\n",
    "start = time.time()\n",
    "nb_proba = NB_pipeline.fit(new_train_text, new_train_labels).predict_proba(test_text)\n",
    "nb_prediction = NB_pipeline.predict(test_text)\n",
    "print(\"Bernoulli Naive Bayes Accuracy: \" + str(metrics.accuracy_score(nb_prediction, test_labels)) + \" -- Run time \" + str(time.time()-start))\n",
    "nb_confusion = metrics.confusion_matrix(test_labels, nb_prediction)\n",
    "print(nb_confusion)\n"
   ]
  },
  {
   "cell_type": "code",
   "execution_count": 12,
   "metadata": {},
   "outputs": [
    {
     "name": "stdout",
     "output_type": "stream",
     "text": [
      "Multinomial Naive Bayes Accuracy: 0.5465976331360947 -- Run time 30.532199144363403\n",
      "[[593  83]\n",
      " [ 43 633]]\n"
     ]
    }
   ],
   "source": [
    "start = time.time()\n",
    "mnb_proba = MNB_pipeline.fit(new_train_text, new_train_labels).predict_proba(test_text)\n",
    "mnb_prediction = MNB_pipeline.predict(test_text)\n",
    "print(\"Multinomial Naive Bayes Accuracy: \" + str(metrics.accuracy_score(mnb_prediction, test_labels)) + \" -- Run time \" + str(time.time()-start))\n",
    "mnb_confusion = metrics.confusion_matrix(test_labels, mnb_prediction)\n",
    "print(nb_confusion)\n"
   ]
  },
  {
   "cell_type": "code",
   "execution_count": 13,
   "metadata": {},
   "outputs": [
    {
     "name": "stdout",
     "output_type": "stream",
     "text": [
      "SVC Accuracy: 0.6161242603550295 -- Run time 636.8835251331329\n",
      "[[595  81]\n",
      " [438 238]]\n"
     ]
    }
   ],
   "source": [
    "start = time.time()\n",
    "svc_proba = SVC_pipeline.fit(new_train_text, new_train_labels).predict_proba(test_text)\n",
    "svc_prediction = SVC_pipeline.predict(test_text)\n",
    "print(\"SVC Accuracy: \" + str(metrics.accuracy_score(svc_prediction, test_labels)) + \" -- Run time \" + str(time.time()-start))\n",
    "svc_confusion = metrics.confusion_matrix(test_labels, svc_prediction)\n",
    "print(svc_confusion)"
   ]
  },
  {
   "cell_type": "code",
   "execution_count": 14,
   "metadata": {},
   "outputs": [
    {
     "name": "stdout",
     "output_type": "stream",
     "text": [
      "KNN Accuracy: 0.6190828402366864 -- Run time 31.317944049835205\n",
      "[[247 429]\n",
      " [ 86 590]]\n"
     ]
    }
   ],
   "source": [
    "start = time.time()\n",
    "knn_proba = KNN_pipeline.fit(new_train_text, new_train_labels).predict_proba(test_text)\n",
    "knn_prediction = KNN_pipeline.predict(test_text)\n",
    "print(\"KNN Accuracy: \" + str(metrics.accuracy_score(knn_prediction, test_labels)) + \" -- Run time \" + str(time.time()-start))\n",
    "knn_confusion = metrics.confusion_matrix(test_labels, knn_prediction)\n",
    "print(knn_confusion)"
   ]
  },
  {
   "cell_type": "markdown",
   "metadata": {},
   "source": [
    "### Results\n",
    "\n",
    "The best results are from the Bernoulli Naive Bayes approach with ~90% accuracy.  The bar graph below summarizes all classifier accuracy scores."
   ]
  },
  {
   "cell_type": "code",
   "execution_count": 21,
   "metadata": {},
   "outputs": [
    {
     "data": {
      "text/plain": [
       "Text(0.5,1,'Classifer Accuracy Results')"
      ]
     },
     "execution_count": 21,
     "metadata": {},
     "output_type": "execute_result"
    },
    {
     "data": {
      "image/png": "[encoded data removed]",
      "text/plain": [
       "<matplotlib.figure.Figure at 0x21e0ac81f60>"
      ]
     },
     "metadata": {},
     "output_type": "display_data"
    }
   ],
   "source": [
    "labels = ['Naive Bayes(Bernoulli)', 'Naive Bayes(Multinomial)', 'K-Nearest Neighbor', 'Support Vector Classifier']\n",
    "\n",
    "nb_acc = metrics.accuracy_score(nb_prediction, test_labels)\n",
    "mnb_acc = metrics.accuracy_score(mnb_prediction, test_labels)\n",
    "knn_acc = metrics.accuracy_score(knn_prediction, test_labels)\n",
    "svc_acc = metrics.accuracy_score(svc_prediction, test_labels)\n",
    "\n",
    "values = [nb_acc, mnb_acc, knn_acc, svc_acc]\n",
    "\n",
    "fix, ax = plt.subplots(figsize=(7,6))\n",
    "ax.bar(np.arange(4), height=values, width = 0.3)\n",
    "ax.set_xticklabels(labels, rotation=45)\n",
    "ax.set_xticks(np.arange(4))\n",
    "ax.set_ylabel('Accuracy Score')\n",
    "ax.set_xlabel('Classifier')\n",
    "ax.set_ylim(0,1)\n",
    "\n",
    "for i, v in enumerate(values):\n",
    "    ax.text(i-.1, v+0.02, '%.3f' % v, fontweight ='bold')\n",
    "\n",
    "ax.set_title('Classifer Accuracy Results')\n",
    "\n"
   ]
  },
  {
   "cell_type": "markdown",
   "metadata": {},
   "source": [
    "The accuracy results can also be seen in the confusion matrix for each classifier.  All confusion matrices are summarized below.  Interestingly, they all had a different problem in attempting to classify the data.  The multinomial model almost exclusively assigned the text instances to the same class, as shown by having an almost equal amount of false positives as true positives.  The K-Nearest Neighbor classifier had a high rate of false positives while the support vector classifier showed a high rate of false negatives."
   ]
  },
  {
   "cell_type": "code",
   "execution_count": 16,
   "metadata": {},
   "outputs": [
    {
     "name": "stdout",
     "output_type": "stream",
     "text": [
      "Confusion Matrix Summary\n",
      "                            TN   FP   FN   TP\n",
      "Naive Bayes(Bernoulli)     593   83   43  633\n",
      "Naive Bayes(Multinomial)    67  609    4  672\n",
      "K-Nearest Neighbor         247  429   86  590\n",
      "Support Vector Classifier  595   81  438  238\n"
     ]
    }
   ],
   "source": [
    "columns = ['TN', 'FP', 'FN', 'TP']\n",
    "\n",
    "confusion = [[nb_confusion[0][0], nb_confusion[0][1], nb_confusion[1][0], nb_confusion[1][1]],\n",
    "             [mnb_confusion[0][0], mnb_confusion[0][1], mnb_confusion[1][0], mnb_confusion[1][1]],\n",
    "       [knn_confusion[0][0], knn_confusion[0][1], knn_confusion[1][0], knn_confusion[1][1]],\n",
    "       [svc_confusion[0][0], svc_confusion[0][1], svc_confusion[1][0], svc_confusion[1][1]]]\n",
    "\n",
    "df = pd.DataFrame(data = confusion, columns = columns, index = labels)\n",
    "\n",
    "print(\"Confusion Matrix Summary\")\n",
    "print(df)"
   ]
  },
  {
   "cell_type": "markdown",
   "metadata": {},
   "source": [
    "Another way to view the results is using precision, recall and the f1-score.  The low precision and high recall of the multinomial naive bayes model supports the previous observation that it "
   ]
  },
  {
   "cell_type": "code",
   "execution_count": 29,
   "metadata": {},
   "outputs": [
    {
     "name": "stdout",
     "output_type": "stream",
     "text": [
      "----------------Naive Bayes (Bernoulli)----------------\n",
      "             precision    recall  f1-score   support\n",
      "\n",
      "      False       0.88      0.93      0.90       636\n",
      "       True       0.94      0.88      0.91       716\n",
      "\n",
      "avg / total       0.91      0.91      0.91      1352\n",
      "\n",
      "---------------Naive Bayes (Multinomial))---------------\n",
      "             precision    recall  f1-score   support\n",
      "\n",
      "      False       0.10      0.94      0.18        71\n",
      "       True       0.99      0.52      0.69      1281\n",
      "\n",
      "avg / total       0.95      0.55      0.66      1352\n",
      "\n",
      "-------------------K-Nearest Neighbor-------------------\n",
      "             precision    recall  f1-score   support\n",
      "\n",
      "      False       0.37      0.74      0.49       333\n",
      "       True       0.87      0.58      0.70      1019\n",
      "\n",
      "avg / total       0.75      0.62      0.65      1352\n",
      "\n",
      "----------------Support Vector Classifier----------------\n",
      "             precision    recall  f1-score   support\n",
      "\n",
      "      False       0.88      0.58      0.70      1033\n",
      "       True       0.35      0.75      0.48       319\n",
      "\n",
      "avg / total       0.76      0.62      0.64      1352\n",
      "\n"
     ]
    }
   ],
   "source": [
    "print('----------------Naive Bayes (Bernoulli)----------------')\n",
    "print(metrics.classification_report(nb_prediction, test_labels))\n",
    "print('---------------Naive Bayes (Multinomial)---------------')\n",
    "print(metrics.classification_report(mnb_prediction, test_labels))\n",
    "print('-------------------K-Nearest Neighbor-------------------')\n",
    "print(metrics.classification_report(knn_prediction, test_labels))\n",
    "print('----------------Support Vector Classifier----------------')\n",
    "print(metrics.classification_report(svc_prediction, test_labels))"
   ]
  },
  {
   "cell_type": "code",
   "execution_count": 36,
   "metadata": {},
   "outputs": [
    {
     "data": {
      "image/png": "[encoded data removed]",
      "text/plain": [
       "<matplotlib.figure.Figure at 0x21e37fde470>"
      ]
     },
     "metadata": {},
     "output_type": "display_data"
    }
   ],
   "source": [
    "nb_fpr, nb_tpr, __ = metrics.roc_curve(test_labels, nb_proba[:,1])\n",
    "nb_auc = metrics.auc(nb_fpr, nb_tpr)\n",
    "mnb_fpr, mnb_tpr, __ = metrics.roc_curve(test_labels, mnb_proba[:,1])\n",
    "mnb_auc = metrics.auc(mnb_fpr, mnb_tpr)\n",
    "svc_fpr, svc_tpr, __ = metrics.roc_curve(test_labels, svc_proba[:,1])\n",
    "svc_auc = metrics.auc(svc_fpr, svc_tpr)\n",
    "knn_fpr, knn_tpr, __ = metrics.roc_curve(test_labels, knn_proba[:,1])\n",
    "knn_auc = metrics.auc(knn_fpr, knn_tpr)\n",
    "\n",
    "fig, ax = plt.subplots(figsize=(8,6))\n",
    "ax.set_title(\"Receiver Operating Characteristic\")\n",
    "ax.set_xlabel('False Positive Rate')\n",
    "ax.set_ylabel('True Positive Rate')\n",
    "\n",
    "ax.plot(nb_fpr, nb_tpr, color='darkorange', label='NB AUC = %0.2f' %nb_auc)\n",
    "ax.plot(mnb_fpr, mnb_tpr, color='teal', label='MNB AUC = %0.2f' %mnb_auc)\n",
    "ax.plot(svc_fpr, svc_tpr, color = 'red', label='SVC AUC = %0.2f' %svc_auc)\n",
    "ax.plot(knn_fpr, knn_tpr, color = 'green', label = 'KNN AUC = %0.2f' %knn_auc)\n",
    "ax.plot([0,1], [0,1], 'r--', color='navy')\n",
    "\n",
    "ax.legend(loc=\"lower right\")\n",
    "\n",
    "\n",
    "plt.show()"
   ]
  },
  {
   "cell_type": "code",
   "execution_count": null,
   "metadata": {
    "collapsed": true
   },
   "outputs": [],
   "source": []
  }
 ],
 "metadata": {
  "kernelspec": {
   "display_name": "Python 3",
   "language": "python",
   "name": "python3"
  },
  "language_info": {
   "codemirror_mode": {
    "name": "ipython",
    "version": 3
   },
   "file_extension": ".py",
   "mimetype": "text/x-python",
   "name": "python",
   "nbconvert_exporter": "python",
   "pygments_lexer": "ipython3",
   "version": "3.6.4"
  }
 },
 "nbformat": 4,
 "nbformat_minor": 2
}
