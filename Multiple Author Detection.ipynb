{
 "cells": [
  {
   "cell_type": "markdown",
   "metadata": {},
   "source": [
    "# Multiple Author Detection Project"
   ]
  },
  {
   "cell_type": "code",
<<<<<<< HEAD
   "execution_count": 1,
   "metadata": {
    "collapsed": true
   },
=======
   "execution_count": 124,
   "metadata": {},
>>>>>>> 062ddbffe39627b5bb4c23475694cda9a874a8c7
   "outputs": [],
   "source": [
    "import numpy as np\n",
    "import pandas as pd\n",
<<<<<<< HEAD
    "import matplotlib.pyplot as plt\n",
    "from sklearn.feature_extraction.text import TfidfTransformer\n",
    "from sklearn.feature_extraction.text import CountVectorizer\n",
=======
    "from sklearn.feature_extraction.text import CountVectorizer, TfidfTransformer\n",
>>>>>>> 062ddbffe39627b5bb4c23475694cda9a874a8c7
    "from sklearn.pipeline import Pipeline\n",
    "from sklearn.naive_bayes import BernoulliNB\n",
    "from sklearn.neighbors import KNeighborsClassifier\n",
    "from sklearn import metrics\n",
    "from sklearn.svm import SVC\n",
<<<<<<< HEAD
    "from sklearn.model_selection import GridSearchCV\n",
=======
    "from nltk.stem.snowball import SnowballStemmer\n",
    "import matplotlib.pyplot as plt\n",
    "import nltk\n",
>>>>>>> 062ddbffe39627b5bb4c23475694cda9a874a8c7
    "import time\n",
    "import json\n",
    "import os\n",
    "%matplotlib inline"
   ]
  },
  {
   "cell_type": "markdown",
   "metadata": {},
   "source": [
    "### Data Aggregation"
   ]
  },
  {
   "cell_type": "code",
<<<<<<< HEAD
   "execution_count": 2,
=======
   "execution_count": 3,
>>>>>>> 062ddbffe39627b5bb4c23475694cda9a874a8c7
   "metadata": {
    "collapsed": true
   },
   "outputs": [],
   "source": [
    "def DataAggregator(path):\n",
    "    text_dict = {}\n",
    "    json_dict = {}\n",
    "    label_df = pd.DataFrame(columns=['changes', 'positions','file'])\n",
    "\n",
    "    for file in os.listdir(path):\n",
    "        if file.endswith('.txt'):\n",
    "            with open(path+file, 'r', encoding='utf-8') as myfile:\n",
    "                text_dict[file.replace('problem-', '').replace('.txt', '')] = myfile.read().replace('\\n', '')\n",
    "        else:\n",
    "            with open(path+file, 'r', encoding='utf-8') as myfile:\n",
    "                data = json.load(myfile)\n",
    "                json_dict[file.replace('problem-', '').replace('.truth', '')] = data['changes']\n",
    "\n",
    "    df = pd.DataFrame(list(text_dict.items()), columns=['file', 'text'])\n",
    "    label_df = pd.DataFrame(list(json_dict.items()), columns = ['file', 'changes'])\n",
    "\n",
    "    output_df = df.merge(label_df,on='file')\n",
    "    output_df = output_df.drop('file', axis = 1)\n",
    "    return output_df"
   ]
  },
  {
   "cell_type": "code",
<<<<<<< HEAD
   "execution_count": 3,
=======
   "execution_count": 4,
>>>>>>> 062ddbffe39627b5bb4c23475694cda9a874a8c7
   "metadata": {
    "collapsed": true
   },
   "outputs": [],
   "source": [
    "#Convert the data sets to data frames\n",
    "test_df = DataAggregator('C:/Users/RSC/PyProjects/Data-Science/Data/pan18-style-change-detection-test-dataset-2018-01-31/')\n",
    "training_df = DataAggregator('C:/Users/RSC/PyProjects/Data-Science/Data/pan18-style-change-detection-training-dataset-2018-01-31/')\n",
    "validation_df = DataAggregator('C:/Users/RSC/PyProjects/Data-Science/Data/pan18-style-change-detection-validation-dataset-2018-01-31/')\n"
   ]
  },
  {
   "cell_type": "code",
<<<<<<< HEAD
   "execution_count": 4,
=======
   "execution_count": 5,
>>>>>>> 062ddbffe39627b5bb4c23475694cda9a874a8c7
   "metadata": {},
   "outputs": [
    {
     "name": "stdout",
     "output_type": "stream",
     "text": [
      "Training Text: 2980, Training Labels: 2980\n",
      "Test Text: 1352, Test Labels: 1352\n",
      "Validation Text: 1492, Validation Labels: 1492\n"
     ]
    }
   ],
   "source": [
    "#Split the data into text and labels\n",
    "training_labels = training_df['changes']\n",
    "validation_labels = validation_df['changes']\n",
    "test_labels = test_df['changes']\n",
    "\n",
    "training_text = training_df['text']\n",
    "validation_text = validation_df['text']\n",
    "test_text = test_df['text']\n",
    "\n",
    "print(\"Training Text: \" + str(len(training_text)) + \", Training Labels: \" + str(len(training_labels)))\n",
    "print(\"Test Text: \" + str(len(test_text)) + \", Test Labels: \" + str(len(test_labels)))\n",
    "print(\"Validation Text: \" + str(len(validation_text)) + \", Validation Labels: \" + str(len(validation_labels)))"
   ]
  },
  {
   "cell_type": "code",
<<<<<<< HEAD
   "execution_count": 5,
   "metadata": {
    "collapsed": true
   },
   "outputs": [],
   "source": [
    "#Builds a pipeline\n",
    "NB_pipeline = Pipeline([('vect', CountVectorizer(strip_accents = 'ascii', ngram_range=(1,5), analyzer='word', stop_words='english')),\n",
    "                         ('tfidf', TfidfTransformer()),\n",
    "                         ('clf', BernoulliNB())])\n",
    "\n",
    "SVC_pipeline = Pipeline([('vect', CountVectorizer(strip_accents = 'ascii', ngram_range=(1,5), analyzer='word', stop_words='english')),\n",
    "                        ('tfidf', TfidfTransformer()),\n",
    "                        ('clf', SVC(C=0.5, probability=True))])\n",
    "\n",
    "KNN_pipeline = Pipeline([('vect', CountVectorizer(strip_accents = 'ascii', ngram_range=(1,5), analyzer='word', stop_words='english')),\n",
    "                        ('tfidf', TfidfTransformer()),\n",
    "                        ('clf', KNeighborsClassifier(20))])"
=======
   "execution_count": 6,
   "metadata": {},
   "outputs": [
    {
     "name": "stdout",
     "output_type": "stream",
     "text": [
      "Training Text: 4472, Training Labels: 4472\n"
     ]
    }
   ],
   "source": [
    "new_train_text = training_text.append(validation_text)\n",
    "new_train_labels = training_labels .append(validation_labels)\n",
    "print(\"Training Text: \" + str(len(new_train_text)) + \", Training Labels: \" + str(len(new_train_labels)))"
   ]
  },
  {
   "cell_type": "markdown",
   "metadata": {},
   "source": [
    "### Data Preprocessing"
   ]
  },
  {
   "cell_type": "code",
   "execution_count": 7,
   "metadata": {},
   "outputs": [],
   "source": [
    "#Builds a pipeline\n",
    "'''\n",
    "vectorizer = CountVectorizer(tokenizer = SnowballStemmer('english').stem, strip_accents = 'ascii', ngram_range=(1,5), analyzer='word', stop_words='english')\n",
    "\n",
    "NB_pipeline = Pipeline([('vect', vectorizer),\n",
    "                        ('tfidf', TfidfTransformer()),\n",
    "                        ('clf', BernoulliNB())])\n",
    "\n",
    "SVC_pipeline = Pipeline([('vect', vectorizer),\n",
    "                         ('tfidf', TfidfTransformer()),\n",
    "                         ('clf', SVC(C=0.5, probability=True))])\n",
    "\n",
    "KNN_pipeline = Pipeline([('vect', vectorizer),\n",
    "                         ('tfidf', TfidfTransformer()),\n",
    "                         ('clf', KNeighborsClassifier(10))])\n",
    "\n",
    "'''\n",
    "NB_pipeline = Pipeline([('vect', CountVectorizer(strip_accents = 'ascii', ngram_range=(1,5), analyzer='word', stop_words='english')),\n",
    "                        ('tfidf', TfidfTransformer()),\n",
    "                        ('clf', BernoulliNB())])\n",
    "\n",
    "SVC_pipeline = Pipeline([('vect', CountVectorizer(strip_accents = 'ascii', ngram_range=(1,5), analyzer='word', stop_words='english')),\n",
    "                         ('tfidf', TfidfTransformer()),\n",
    "                         ('clf', SVC(C=0.5, probability=True))])\n",
    "\n",
    "KNN_pipeline = Pipeline([('vect', CountVectorizer(strip_accents = 'ascii', ngram_range=(1,5), analyzer='word', stop_words='english')),\n",
    "                         ('tfidf', TfidfTransformer()),\n",
    "                         ('clf', KNeighborsClassifier(10))])\n"
   ]
  },
  {
   "cell_type": "markdown",
   "metadata": {},
   "source": [
    "### Testing Classifiers"
>>>>>>> 062ddbffe39627b5bb4c23475694cda9a874a8c7
   ]
  },
  {
   "cell_type": "code",
<<<<<<< HEAD
   "execution_count": 6,
   "metadata": {},
   "outputs": [
    {
     "data": {
      "text/plain": [
       "'\\n#Find best parameters\\nparameters = {\\'vect__ngram_range\\': [(1,5)],\\n              \\'tfidf__use_idf\\': (True, False),\\n              \\'clf__C\\':[0.5,1.0,2.0,5.0]}\\n\\n#nb_search = GridSearchCV(NB_pipeline, parameters, n_jobs=-1)\\n#nb_search = nb_search.fit(training_text, training_labels)\\n\\nsvc_search = GridSearchCV(SVC_pipeline, parameters, n_jobs=-1)\\nsvc_search = svc_search.fit(training_text, training_labels)\\n\\nprint(\"Best NB Score: \" + str(nb_search.best_score_) + \" -- Best NB Params: \" + str(nb_search.best_params_))\\nprint(\"Best SVC Score: \" + str(svc_search.best_score_) + \" -- Best SVC Params: \" + str(svc_search.best_params_))\\n'"
      ]
     },
     "execution_count": 6,
     "metadata": {},
     "output_type": "execute_result"
    }
   ],
   "source": [
    "'''\n",
    "#Find best parameters\n",
    "parameters = {'vect__ngram_range': [(1,5)],\n",
    "              'tfidf__use_idf': (True, False),\n",
    "              'clf__C':[0.5,1.0,2.0,5.0]}\n",
    "\n",
    "#nb_search = GridSearchCV(NB_pipeline, parameters, n_jobs=-1)\n",
    "#nb_search = nb_search.fit(training_text, training_labels)\n",
    "\n",
    "svc_search = GridSearchCV(SVC_pipeline, parameters, n_jobs=-1)\n",
    "svc_search = svc_search.fit(training_text, training_labels)\n",
    "\n",
    "print(\"Best NB Score: \" + str(nb_search.best_score_) + \" -- Best NB Params: \" + str(nb_search.best_params_))\n",
    "print(\"Best SVC Score: \" + str(svc_search.best_score_) + \" -- Best SVC Params: \" + str(svc_search.best_params_))\n",
    "'''"
   ]
  },
  {
   "cell_type": "code",
   "execution_count": 7,
   "metadata": {},
   "outputs": [
    {
     "name": "stdout",
     "output_type": "stream",
     "text": [
      "Naive Bayes Accuracy: 0.881367292225 -- Run time 74.57573342323303\n",
      "[[695 126]\n",
      " [ 51 620]]\n",
      "SVM Accuracy: 0.658847184987 -- Run time 549.5619184970856\n",
      "[[592 355]\n",
      " [154 391]]\n",
      "KNN Accuracy: 0.563002680965 -- Run time 38.25373101234436\n",
      "[[289 195]\n",
      " [457 551]]\n"
=======
   "execution_count": 8,
   "metadata": {},
   "outputs": [
    {
     "name": "stdout",
     "output_type": "stream",
     "text": [
      "Naive Bayes Accuracy: 0.906804733728 -- Run time 41.165326833724976\n",
      "[[593  83]\n",
      " [ 43 633]]\n"
>>>>>>> 062ddbffe39627b5bb4c23475694cda9a874a8c7
     ]
    }
   ],
   "source": [
    "#Train the models and fit to the validation set\n",
    "start = time.time()\n",
<<<<<<< HEAD
    "NB_pipeline.fit(training_text, training_labels)\n",
    "nb_prediction = NB_pipeline.predict(validation_text)\n",
    "print(\"Naive Bayes Accuracy: \" + str(metrics.accuracy_score(nb_prediction, validation_labels)) + \" -- Run time \" + str(time.time()-start))\n",
    "nb_confusion = metrics.confusion_matrix(nb_prediction, validation_labels)\n",
    "print(nb_confusion)\n",
    "\n",
    "\n",
    "start = time.time()\n",
    "SVC_pipeline.fit(training_text, training_labels)\n",
    "svc_prediction = SVC_pipeline.predict(validation_text)\n",
    "print(\"SVM Accuracy: \" + str(metrics.accuracy_score(svc_prediction, validation_labels)) + \" -- Run time \" + str(time.time()-start))\n",
    "svc_confusion = metrics.confusion_matrix(svc_prediction, validation_labels)\n",
    "print(svc_confusion)\n",
    "\n",
    "start = time.time()\n",
    "KNN_pipeline.fit(training_text, training_labels)\n",
    "knn_prediction = KNN_pipeline.predict(validation_text)\n",
    "print(\"KNN Accuracy: \" + str(metrics.accuracy_score(knn_prediction, validation_labels)) + \" -- Run time \" + str(time.time()-start))\n",
    "knn_confusion = metrics.confusion_matrix(knn_prediction, validation_labels)\n",
=======
    "nb_proba = NB_pipeline.fit(new_train_text, new_train_labels).predict_proba(test_text)\n",
    "nb_prediction = NB_pipeline.predict(test_text)\n",
    "print(\"Naive Bayes Accuracy: \" + str(metrics.accuracy_score(nb_prediction, test_labels)) + \" -- Run time \" + str(time.time()-start))\n",
    "nb_confusion = metrics.confusion_matrix(test_labels, nb_prediction)\n",
    "print(nb_confusion)\n"
   ]
  },
  {
   "cell_type": "code",
   "execution_count": 11,
   "metadata": {},
   "outputs": [
    {
     "name": "stdout",
     "output_type": "stream",
     "text": [
      "SVC Accuracy: 0.616124260355 -- Run time 737.2877514362335\n",
      "[[595  81]\n",
      " [438 238]]\n"
     ]
    }
   ],
   "source": [
    "start = time.time()\n",
    "svc_proba = SVC_pipeline.fit(new_train_text, new_train_labels).predict_proba(test_text)\n",
    "svc_prediction = SVC_pipeline.predict(test_text)\n",
    "print(\"SVC Accuracy: \" + str(metrics.accuracy_score(svc_prediction, test_labels)) + \" -- Run time \" + str(time.time()-start))\n",
    "svc_confusion = metrics.confusion_matrix(test_labels, svc_prediction)\n",
    "print(svc_confusion)"
   ]
  },
  {
   "cell_type": "code",
   "execution_count": 10,
   "metadata": {},
   "outputs": [
    {
     "name": "stdout",
     "output_type": "stream",
     "text": [
      "KNN Accuracy: 0.619082840237 -- Run time 43.049291133880615\n",
      "[[247 429]\n",
      " [ 86 590]]\n"
     ]
    }
   ],
   "source": [
    "start = time.time()\n",
    "knn_proba = KNN_pipeline.fit(new_train_text, new_train_labels).predict_proba(test_text)\n",
    "knn_prediction = KNN_pipeline.predict(test_text)\n",
    "print(\"KNN Accuracy: \" + str(metrics.accuracy_score(knn_prediction, test_labels)) + \" -- Run time \" + str(time.time()-start))\n",
    "knn_confusion = metrics.confusion_matrix(test_labels, knn_prediction)\n",
>>>>>>> 062ddbffe39627b5bb4c23475694cda9a874a8c7
    "print(knn_confusion)"
   ]
  },
  {
<<<<<<< HEAD
   "cell_type": "code",
   "execution_count": 8,
=======
   "cell_type": "markdown",
   "metadata": {},
   "source": [
    "### Results"
   ]
  },
  {
   "cell_type": "code",
   "execution_count": 119,
   "metadata": {},
   "outputs": [
    {
     "data": {
      "text/plain": [
       "<matplotlib.text.Text at 0x2074cb691d0>"
      ]
     },
     "execution_count": 119,
     "metadata": {},
     "output_type": "execute_result"
    },
    {
     "data": {
      "image/png": "iVBORw0KGgoAAAANSUhEUgAAAcYAAAGACAYAAAA3Y8JYAAAABHNCSVQICAgIfAhkiAAAAAlwSFlz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\nRU5ErkJggg==\n",
      "text/plain": [
       "<matplotlib.figure.Figure at 0x20754de89b0>"
      ]
     },
     "metadata": {},
     "output_type": "display_data"
    }
   ],
   "source": [
    "labels = ['Naive Bayes(Binomial)', 'K-Nearest Neighbor', 'Support Vector Classifier']\n",
    "\n",
    "nb_acc = metrics.accuracy_score(nb_prediction, test_labels)\n",
    "knn_acc = metrics.accuracy_score(knn_prediction, test_labels)\n",
    "svc_acc = metrics.accuracy_score(svc_prediction, test_labels)\n",
    "\n",
    "values = [nb_acc, knn_acc, svc_acc]\n",
    "\n",
    "fix, ax = plt.subplots(figsize=(7,6))\n",
    "ax.bar(np.arange(3), height=values, width = 0.3)\n",
    "ax.set_xticklabels(labels)\n",
    "ax.set_xticks(np.arange(3))\n",
    "ax.set_ylabel('Accuracy Score')\n",
    "ax.set_xlabel('Classifier')\n",
    "ax.set_ylim(0,1)\n",
    "\n",
    "for i, v in enumerate(values):\n",
    "    ax.text(i-.05, v+0.02, '%.3f' % v, fontweight ='bold')\n",
    "\n",
    "ax.set_title('Classifer Accuracy Results')\n",
    "\n"
   ]
  },
  {
   "cell_type": "code",
   "execution_count": 129,
   "metadata": {},
   "outputs": [
    {
     "name": "stdout",
     "output_type": "stream",
     "text": [
      "Confusion Matrix Summary\n",
      "                            TN   FP   FN   TP\n",
      "Naive Bayes(Binomial)      593   83   43  633\n",
      "K-Nearest Neighbor         247  429   86  590\n",
      "Support Vector Classifier  595   81  438  238\n"
     ]
    }
   ],
   "source": [
    "columns = ['TN', 'FP', 'FN', 'TP']\n",
    "\n",
    "confusion = [[nb_confusion[0][0], nb_confusion[0][1], nb_confusion[1][0], nb_confusion[1][1]],\n",
    "       [knn_confusion[0][0], knn_confusion[0][1], knn_confusion[1][0], knn_confusion[1][1]],\n",
    "       [svc_confusion[0][0], svc_confusion[0][1], svc_confusion[1][0], svc_confusion[1][1]]]\n",
    "\n",
    "df = pd.DataFrame(data = confusion, columns = columns, index = labels)\n",
    "\n",
    "print(\"Confusion Matrix Summary\")\n",
    "print(df)"
   ]
  },
  {
   "cell_type": "code",
   "execution_count": 96,
>>>>>>> 062ddbffe39627b5bb4c23475694cda9a874a8c7
   "metadata": {},
   "outputs": [
    {
     "data": {
<<<<<<< HEAD
      "image/png": "iVBORw0KGgoAAAANSUhEUgAAAfUAAAGDCAYAAAAyM4nNAAAABHNCSVQICAgIfAhkiAAAAAlwSFlz\nAAALEgAACxIB0t1+/AAAIABJREFUeJzs3Xd8k9UawPHfaUtLgbL3RkBlyEZAURQHWxBUprJkiIKA\nXieCigMnOC6yZE9lKqBcB4KylC2oRTYomxbogrY594+TQigdKW3yvkme7+eTT/OO5H2Spn1yttJa\nI4QQQgjfF2R1AEIIIYTIGZLUhRBCCD8hSV0IIYTwE5LUhRBCCD8hSV0IIYTwE5LUhRBCCD8hSV0I\nJ6VUd6XU/6yOw06UUjFKqRssuG5FpZRWSoV4+9qeoJTarZS66zoeJ59JkSWS1IUtKaUOKqXinUnl\nuFJqulIqnyevqbWeo7W+35PXcKWUuk0p9aNS6oJS6pxS6mulVHVvXT+NeH5SSj3uuk9rnU9rvd9D\n17tRKfWlUuq08/XvVEoNV0oFe+J618v55aJKdp5Da11Da/1TJte55ouMtz+TwvdJUhd21k5rnQ+o\nA9QFXrQ4nuuSVmlTKdUE+B+wDCgNVAJ2AOs8UTK2W4lXKVUZ2AQcAW7RWhcAHgbqAxE5fC3LXrvd\n3ncRALTWcpOb7W7AQeBel+13gRUu22HA+8Bh4AQwAQh3Od4e2A6cB/YBLZ37CwCfA8eAf4A3gGDn\nsV7AL877nwHvp4ppGTDceb80sAg4BRwAhric9yqwEJjtvP7jaby+n4Hxaez/BpjpvH8XcBR4CTjt\nfE+6u/MeuDz2eeA4MAsoBCx3xhzlvF/Wef6bQDKQAMQAnzr3a6CK8/504L/ACuACJilXdonnfiAS\nOAeMB9ak9dqd5852/X2mcbyi89o9na/vNPCyy/FbgQ1AtPN3+SkQ6nJcA08CfwMHnPs+wnyJOA9s\nAe5wOT/Y+T7vc762LUA5YK3zuWKd70tn5/ltMZ+vaGA9UCvVZ/d5YCdwEQjB5fPsjH2zM44TwIfO\n/Yed14px3prg8pl0nlMD+A4463zsS1b/rcrNXjfLA5Cb3NK6pfonWBb4HfjI5fhY4CugMKZk9zXw\ntvPYrc7Ech+mNqoMcLPz2BJgIpAXKA78CgxwHrv8DxS405kAlHO7EBCPSeZBzn/6I4FQ4AZgP9DC\nee6rQCLQwXlueKrXlgeTQO9O43X3Bo45798FJAEfYhJ4M2dyucmN9yDlse84HxsOFAE6Oa8fAXwJ\nLHW59k+kSsJcm9TPON/fEGAOMN95rKgzSXV0Hnva+R6kl9SPA70z+P1XdF57sjP22pgEWc15vD7Q\n2HmtisCfwNBUcX/nfG9Svuj0cL4HIcAzzhhyO4/9B/MZuwlQzusVSf0eOLfrAieBRpgvAz0xn9cw\nl8/udsyXgnCXfSmf5w3Ao877+YDGqV5ziMu1enHlMxmB+QLzDJDbud3I6r9VudnrZnkAcpNbWjfn\nP8EYTKlJAz8ABZ3HFCa5uZYSm3ClRDYRGJvGc5ZwJgbXEn1XYLXzvus/UIUpOd3p3O4H/Oi83wg4\nnOq5XwSmOe+/CqzN4LWVdb6mm9M41hJIdN6/C5OY87oc/wJ4xY334C7gUkrSSieOOkCUy/ZPZJ7U\np7gcaw385bz/GLDB5ZjCfClKL6kn4qw9Sed4SoIr67LvV6BLOucPBZakirt5Jp+xKKC2834k0D6d\n81In9c+A0anOiQSauXx2+6TxeU5J6muB14Ci6bzm9JJ6V2CbJ//u5Ob7N2nvEXbWQWv9vVKqGTAX\nUxqMBophSptblFIp5ypMqQlMCWllGs9XAcgFHHN5XBAm+VxFa62VUvMx/0jXAt0wVcYpz1NaKRXt\n8pBgTJV6imue00UU4ABKAX+lOlYKU9V8+VytdazL9iFMbUFm7wHAKa11wuWDSuXBlO5bYmoeACKU\nUsFa6+QM4nV13OV+HKakiTOmy6/Z+f4dzeB5zmBe63VdTyl1I6YGowHmfQjB1J64uup3oJR6Fujr\njFUD+TGfKTCfmX1uxAPm999TKTXYZV+o83nTvHYqfYHXgb+UUgeA17TWy924blZiFAFKOsoJ29Na\nr8GUEt937jqNqQqvobUu6LwV0KZTHZh/qJXTeKojmJJ6UZfH5dda10jn0vOAh5RSFTCl80Uuz3PA\n5TkKaq0jtNatXcPO4PXEYqpgH07j8COYWokUhZRSeV22ywP/uvEepBXDM5jq5UZa6/yYJgYwXwYy\njNkNxzA1EOYJzTeNsumfzveYpoDr9RnmC1FV52t5iSuvI8Xl16OUugN4DvP+FtJaF8Q00aQ8Jr3P\nTFqOAG+m+v3n0VrPS+vaqWmt/9Zad8U0/7wDLHT+jjN7/49gmnqESJckdeErxgH3KaVqa60dmLbW\nsUqp4gBKqTJKqRbOcz8Heiul7lFKBTmP3ay1Pobpcf6BUiq/81hlZ03ANbTW2zDJcwqwSmudUjL/\nFbiglHpeKRWulApWStVUSjXMwut5AVPaG6KUilBKFVJKvYGpQn8t1bmvKaVCnYmpLfClG+9BWiIw\nXwSilVKFgVGpjp/g+pPGCuAWpVQHZ4/vJ4GSGZw/CrhNKfWeUqqkM/4qSqnZSqmCblwvAtOGH6OU\nuhl4wo3zkzCdBEOUUiMxJfUUU4DRSqmqyqillCriPJb6fZkMDFRKNXKem1cp1UYp5VavfaVUD6VU\nMefvMOUz5XDG5iD938FyoJRSaqhSKsz5uWnkzjVF4JCkLnyC1voUMBPTOQ1M7+K9wEal1HlMye8m\n57m/YjqcjcWUxtZgqkzBtP2GAn9gqsEXknE18FzgXufPlFiSMcm1Dqbne0riL5CF1/ML0ALTsewY\nplq9LtBUa/23y6nHnXH+i+mYNlBrnVJln+57kI5xmE5np4GNwLepjn+EqZmIUkp97O5rcb6e05ia\nh3cxVevVMT28L6Zz/j7MF5iKwG6l1DlMTchmTD+KzDyLaRK5gEmyCzI5fxXm9e7BvNcJXF1F/iGm\nv8L/MF8WPse8V2D6SMxQSkUrpR7RWm/G9LH4FPO72Ytp+3ZXS8xrjsG851201vFa6zjMKIR1zms1\ndn2Q1voCpvNnO8zn4m/g7ixcVwSAlJ69Qgibcc5ANltrnVE1ti0ppYIwQ+q6a61XWx2PEIFCSupC\niByhlGqhlCqolArjShv3RovDEiKgSFIXQuSUJpje2acxVcQdtNbx1oYkRGCR6nchhBDCT0hJXQgh\nhPATktSFEEIIP+FzM8oVLVpUV6xY0eowhBBCCK/ZsmXLaa11sczO87mkXrFiRTZv3mx1GEIIIYTX\nKKUOuXOeVL8LIYQQfkKSuhBCCOEnJKkLIYQQfkKSuhBCCOEnJKkLIYQQfkKSuhBCCOEnJKkLIYQQ\nfkKSuhBCCOEnJKkLIYQQfsJjSV0pNVUpdVIptSud40op9bFSaq9SaqdSqp6nYhFCCCECgSdL6tOB\nlhkcbwVUdd76A595MBYhhBDC73ls7net9VqlVMUMTmkPzNRmQfeNSqmCSqlSWutjnopJCCFEgIk/\nA7++A0rl7PMmJsM/0XDkrLmdjwfg+T17KJw7mufHLIWm7XP2mm6wckGXMsARl+2jzn3XJHWlVH9M\naZ7y5ct7JTghhBA+Rms49D9Y8x/I41zQ7PCP2Xg+IBY4BZx03lLunwUcV051oPiAJnzIYOawGHZt\nCrik7jat9SRgEkCDBg20xeEIIYTwtOh9sH08kIUS9pYP0j9WqRWUbZb5c1xMhF//hp92w7pIiIpJ\n+zyloHQhqFCUEyXK0HNLbVYdKQjAuErFeaTB3e7HnYOsTOr/AOVctss69wkhhPAXSQlw4FtIioXE\neJN48xTP+DFH12b/uo1HQtk7zf2iNSFvifTPPXcOVqyAJUvgm28gNvbKsYgIuPlmuOkmc0u5X6UK\nhIcD8NqgFaw6spkiRcI5c//nbLhpDzTIRg1BNliZ1L8CnlJKzQcaAeekPV0IIbwkIQpi3fiXm5wI\nu6dxTYl56zgIyU2m/a2T4q7dd/Yvd6OEii2g/L3un1+wClTtkPl5x47BsmUmka9eDYmJV47VqwcP\nPggdOkCNGpm2x7/99j3Exiby1lvNKTvlefdj9QCPJXWl1DzgLqCoUuooMArIBaC1ngCsBFoDe4E4\noLenYhFCCL+SdBEOrIBLLlXDxzbCv+shV77MH59wJmuJNd04Etw/N19pKHsXOC5B8fpQuknG54fm\ng+L1craD2969JokvWQIbN5o2eICgIGjW7Eoir1Ahw6fZvz+KN95Yy/jxbcidO4QCBXIzY4YbXyS8\nwJO937tmclwDT3rq+kII4TFaQ/TetJPani8gITprz3dsA5zYAsFh7p2ffDFrz5+RwtXcu17+8lD5\ngav3F7gBKrhRig7KBcGh1xdfdmgN27dfSeS7XKZNCQuD++83ibxdOyha1K2nXLBgF/37L+f8+YuU\nKRPB6NHNPRT89fGJjnJCCJGu5ETYvxwuZjGRuuP4r3D0ZwiNuHr/sY05fy3IerLOW+rqpJoYBzV6\nQVjBzB+rFJSo76xC9yPJyfDLLyaJL10Khw5dOZY/P7RtaxJ5y5aQz41aDafY2Es8/fS3fP75NgAe\nfPBmhg3LpLbBApLUhRD2cemC6fXs6o+ZaZeItQN2TvROXBkpWvPqba3BkQR1slgRGZIbqjxoqp3d\noYIhOFfWruGvtIYNG2DqVNNOfvr0lWMlS0L79iaR3303hGa9xmDnzhN07ryQv/46TVhYMOPGtWTA\ngPqonB77ngMkqQshPO/8YTj4P8zA31T2LoGYYxAUbKqgr1fuwtdWD+eEpHio/hjkLpTqekWg8I05\nfz3hvgsXYM4c+Owz2Lnzyv4qVUwSf/BBaNTItJlfpz/+OMWtt07m4sVkqlcvxvz5nbjllgx60ltM\nkroQgUhrM2xo19SsV79G74PDP3gmrhTFal+5rx2mPbZmn7TPLX27KS0HBXs2JmEfO3fChAkwaxbE\nODsLFisGfftC9+5u9Vh3V7VqRXnggZsoVCg3Y8e2JE8ee9eOSFIXwt+d2AbHN8HumWassAqGk9us\nieXmbpArz7X7HYlQa4CJrUh196ugReBISICFC02pfP36K/vvuAOeeAI6djSd33LAzz8fokSJfNx4\nYxGUUsyd24mQkMxL+23mtsmR62eHJHUhfIXWcGonJLs5jOjsX3DoO/hzTsbn1R4ExWplLZagXKaq\nO7xI1h5nwzZIYXP79sHEiTBt2pW28ogIeOwxGDgQatbM+PFZkJzs4I031vL662upXbsEGzb0JSws\nxK2EDrDy75UAtK7aOsdiyipJ6kLYgSPZVDOD6cW9dykkX4Lfp4BOAhVkEnp21BoAQSFXqrHDCkLB\nG7L3nEJ4QlKSmeHts89g1aor++vUMaXybt2y1HPdHUePnqd798WsXXsIpaBVqyoEBV3fl9AV3Vbk\naGxZIUldCE84uwfiT2d+3l9z4Z+fs56wS97q3nlxJ6BWf1OqTt1LWwi7OXYMpkyBSZPg6FGzL3du\n6NzZJPNbb/VIbc9XX0XSu/cyzp6Np2TJfMye/SD33OObX3glqYvAkpxoZrTau9QsyZieo2vh+G/X\njk92x5nd1x9fkPNP0pFkOoAVqw0h4VD9UbM/d2HIXy79xwvha7Q207R+9pkZV56UZPZXrWqq13v1\ngsKFPXb55577jvfeM230rVpVYfr0DhQvntdj1/M0SerC/+yalvZyi0dWQ4yX1wwqldnkFNrc6g2F\nG9pKBzEROKKiYMYM04s9MtLsCw42Hd6eeAKaN8/WUDR3VaxYkFy5ghgz5l6GDm183VXudiFJXdjb\nwf/Bqt6QK8K9ajftgKg9bjyxgrACV0rAaXEkmePXU1oPDjMLS0jHMCGuFhkJ77wD8+dDfLzZV6YM\n9O9vhqSVKePRy2utOXAgmhtuMPMOPPFEA+699wZuvDGLnT5tSpK6sJdLF0y199aPYd+y7D1Xq5nX\n7suVz6yr7G9TYwphd1qbKvZnnjHD08DMvf7EE2bq1hDPp6Nz5xIYOHAFy5fvYdu2AVSpUhillN8k\ndJCkLrwp/izMqAm5Mmivit6b9v473oHK7dy/VoFKkriFsIsTJ0wpfIWzV/ijj8LIkWbmNy/59dd/\n6NJlIQcORJM3by7++us0Vap4rq3eKpLURc6K3gfnDqR9bOF97j9PsTpQpBrU6GnWUpbZwoTwTStW\nQJ8+cPIkFCpkerY/9JDXLu9waD74YD0vvfQjSUkO6tYtyfz5D/lV6dyVJHWRdUkXITH26n1n/4Sv\nOkLcycwfX7YZ3D85/eN5S0mHMSF8XVwc/Oc/MH682W7e3HSMK1vWayGcOBFDz55LWbXKLBI0dGgj\nxoy5l7Aw/019/vvKRPYlJcA/68zkJwB7FsHpnXBsU+aPLX9PGjs1RJSH+6dIyVsIf7Ztm5kg5q+/\nIFcueOstGD7cK73ZXR07FsPq1QcpUiSc6dM70Lat/y/AI0ldpG/107BzUvrHU69alRAFt74At78h\nSVuIQORwwPvvw4gRkJgI1arB3LlmJjgvSU52EBxsvjzUqVOSBQseomHD0pQpk9+j17XDvO8gSV2k\nOPU7bHrz6nWrj20wP4vVgTzFzf2kOKj/DJS/2wwJE0IIgCNHzHzsP/1ktp96Ct59F8LDvRbC/v1R\ndO26iGHDGtOli5lBsUOHm71ybTvM+w6S1ANP3GmTrL8fxFVrW2c0KUuLKVCivsdDE0L4qC++gAED\nIDoaihc3i6+09m5ymz9/FwMGLOf8+Yu89dbPPPJIDUsmkrFy3neQpB44HMnwSb6rS+JpafCsmZ40\nRb7SULyeZ2MTQvim8+dh8GCY6ZwTom1b+Pxzk9i9JDb2EoMHf8O0adsB6NSpGpMnt/P5meGulyR1\nf7a4DZzYYu7Hnbj6WN6S0PwTKNX4yr7QCKlSF0K4Z/166NEDDhwwVewffmhK616cRXH79uN06bKQ\nyMgz5M4dwtixLRgwoD7KyzM52qU9HSSp+6+dk+HAymv3l2oEXTfI9KVCiOuTmAijR8Obb5qOcfXq\nwZw5cLN32q5TOByaxx5bQmTkGapXL8aCBQ9Rs6b3aghc2aU9HSSp+5+L52H7p/DLy1f2DTxmfqqg\nKx3ehBAiq/buNaXzTZtMweD55+H11yE01OuhBAUppk/vwJQpW3n//fvJkyeX12NIzer2dJCk7vv2\nLITN70NofudsbvuvPv7IT6aqXQghrpfWpvPbkCEQGwvlypl29Lvu8moYa9ce4rvv9jF6dHMA6tUr\nxfjx9qn6tgNJ6r7s2K/w9cNpHytQCVrOgLJ3eDcmIYR/OXPGrKC2eLHZ7tzZLMxSqFDGj8tBSUkO\n3nhjLaNHr8Xh0DRtWp4WLbw3b7wvkaTuiyK/hF/HwMmtV/a1nGFK5EEhUPo2WcxECJF9338PPXvC\nv/9CRAT897+m+t2LfXKOHDlH9+6L+fnnwygFL73UlObNK3nt+r5GkrovOfMHTK9x7f4OX2VtBTMh\nhMjIxYvw0kumRzvA7bfDrFlQybvJdNmyv+jdexlRUQmUKpWP2bM7SkLPhCR1u4s/CwvvhZPbrj3W\nfilUuDfjpUyFECIrdu8287bv3AnBwfDqq/DCC15Z79zVzJk76NlzKQCtW1dl+vT2FCsm/+syI0nd\njpIS4MyfsHUs/DHr2uP1n4E7x5iqdiGEyAlawyefwHPPmZJ6lSowezY0amRJOB063Ey1akXp168e\nTz/dOGAnk8kqyQp2oTV8/wSc2Q3//HLt8WrdTTIvXkfGmAshctbx49C7N3z7rdnu2xfGjYN83lsC\nWWvNl1/+Qbt2NxIenov8+cPYsWMguXLJ4lBZIUndLqL3wc6JV++LKAeFb4Z7J0DBG6yJSwjh3776\nyiTx06ehcGGYPBk6dvRqCOfOJTBw4Armz9/FE080uDxMzRcSup1mkwNJ6vYRf9r8zFcG2syDwtUg\nT1FrYxJC+K/YWLPG+STn8sr33QfTp0Pp0l4NY9Omo3TtuogDB6LJmzcXTZqU9er1s8tOs8mBJHXr\nnT8E826/epU0GVsuhPCkzZuhe3fYs8fMBvfOO2ZimaAgr4XgcGjee28dI0asJinJQb16pZg/vxNV\nqxbxWgzZ5VpKt8NsciBJ3XrHN1+d0Ju8alkoQgg/l5xs1jgfORKSkqBmTTNve61aXg0jLi6RDh3m\n8913ZgbMoUMbMWbMvYSF+VZKslspHSSpWy/5ovlZpQM8sMjMzy6EEDnt0CF47DFYu9ZsP/00jBkD\nub0/UVV4eAiFCoVTtGgepk9vT5s2N3o9hpxkl1I6SFK3VnIirOxu7mstCV0IkfMuXTLt5iNGwLlz\nULKkaTtv0cKrYSQmJnPqVBylS0eglGLixLbExSVSunSEV+Pwd5JFrPT3oiv3q3SwLg4hhP9xOGD+\nfKhWDQYPNgm9fXszqYyXE/r+/VE0bTqN1q3nkJCQBEDBgrkloXuAJHWraA2Hvjf3VTDU7GVpOEII\nP/L999CwIXTtCvv3m7XOFy+GJUugWDGvhjJv3u/UqTOBX3/9h6ioBA4fPufV6wcaqX63gnbA+GKQ\ncNZs1xlkbTxCCP+wdauZ0vW778x26dLw2mvQq5fXp3mNjb3E4MHfMG3adgA6darG5MntKFQo3Ktx\neIrdxqenkKTubbEnYGbtKwkdoP5w6+IRQvi+/ftNm/m8eWa7QAGT3IcMgTx5vB7O9u3H6dJlIZGR\nZ8idO4Rx41rQv399lB/NhmnHnu8gSd37fnkZ4k6Y+8Vqw2PbrY1HCOG7Tp6EN96ACRMgMdGMOR88\nGF58EYpYN95706ajREaeoUaNYsyf/xA1axa3LBZPs1PPd5Ck7n1/zDA/i9aEzmutjUUI4ZtiYsyy\nqO+9Z+4rZdY9f+01qFDBkpCSkx0EB5tuWiml8h49apEnTy5L4glU0lHOm878CQ7T85M734Ww/NbG\nI4TwLYmJMH48VK4Mo0aZhN6mDezYYYapWZTQ16w5SI0a49mz5wwASin6968vCd0CktS9yXVN9PL3\nWBeHEMK3OBzwxRdQvTo8+aSpdm/cGNasgeXL4ZZbLAkrKcnBqFGrad58JpGRZ/jgg/WWxCGukOp3\nb9r8gflZrBYEh1obixDCN/z4Izz/vJmvHeCmm+Dtt6FDB0uXYT5y5Bzduy/m558PoxS8/PIdvPrq\nXZbF40127fkOktS95/QuOLnV3L+ln7WxCCHsb/t204N91SqzXaqUaTPv3dvrw9NSW7r0L/r0WUZU\nVAKlSuVj9uyONG9eydKYvMmuPd9Bkrr3fNvryv3St1sWhhDC5g4cgFdeMQutAOTPb0rqQ4daMjwt\ntX//vUCXLgu5eDGZNm2qMm1ae4oVy2t1WJawW893kKTuHSd3wIkt5n69oVC8jrXxCCHs59QpePNN\n0xEuZXjak0/CSy9B0aJWR3dZ6dIRfPRRS+Ljk3j66UZ+NfbcH0hS96Qzf8L8OyDhzJV9t4+2tB1M\nCGEzsbEwdqxZEvXCBfP/4dFH4fXXoWJFq6NDa83UqdvImzeULl1qAjBgQAOLoxLpkaTuCYnxsLgl\nHE01Dr3tFxCaz5qYhBD2kpgIU6aYdvITzgmpWrUyneBq17Y2Nqdz5xIYMGA5CxbsJl++UO6+uyIl\nSgT2/zA7d5IDDw9pU0q1VEpFKqX2KqVeSON4AaXU10qpHUqp3Uqp3p6Mx2u2fnR1Qm/0MgxLhJse\nti4mIYQ9aA1ffgk1asCgQSahN2xoermvXGmbhL5p01Hq1p3IggW7yZs3F+PHtw74hA727iQHHiyp\nK6WCgf8C9wFHgd+UUl9prf9wOe1J4A+tdTulVDEgUik1R2t9yVNxeUWkc/7l0AjodxhyF7Q2HiGE\nPaxebTq9/fab2a5aFd56Czp1sk2znMOhee+9dYwYsZqkJAf16pVi/vxOVK1q3bSzdmTHTnLg2er3\nW4G9Wuv9AEqp+UB7wDWpayBCmZ4W+YCzQJIHY/K86P1waqe53+FrSehCCDPj2wsvwLffmu0SJeDV\nV6FvX8hlr1nXnnxyBRMmmI69w4c35q237iEsTFpqfYUnf1NlgCMu20eBRqnO+RT4CvgXiAA6a60d\nHozJ845tMD+L1YZyzayNRQhhrYMHrwxP0xoiIq4MT8trz2FgAwY0YPnyv5k4sS2tW1e1OhxbsXt7\nOlg/TWwLYDtQGqgDfKqUumZCdKVUf6XUZqXU5lOnTnk7xqyJdXZ4KSsJXYiAdfo0DBtmZn+bPdtM\nFjN0KOzbBy+/bKuEfulSMl9+ufvydp06Jdm3b4gk9DTYvT0dPJvU/wHKuWyXde5z1RtYrI29wAHg\n5tRPpLWepLVuoLVuUKxYMY8FnCPiTpqfeUtYG4cQwvtiY81Y88qVYdw408O9Rw+IjDTD1mz2/2vf\nvrM0bTqVRx5ZyIIFuy7vDw0NtjAq+7Nrezp4Nqn/BlRVSlVSSoUCXTBV7a4OA/cAKKVKADcB+z0Y\nk+elrJUe7r/rBwshUklKgkmTTMe3ESPg/Hlo0QK2boVZs6CS/aZQnTv3d+rWnchvv/1L+fIFKFeu\ngNUh2VabuW1Qr9mjI2NmPNamrrVOUko9BawCgoGpWuvdSqmBzuMTgNHAdKXU74ACntdan/ZUTF6R\nktSlpC6E/9MaliyBF1+EPXvMvvr14Z134B57rsQYE3OJwYO/Yfr07QB06lSNyZPbUahQuMWR2VOb\nuW0uV7uDvavewcOTz2itVwIrU+2b4HL/X+B+T8bgdSlt6nkkqQvh19asMZ3eNm0y25Urm+FpDz0E\nQVZ3V0rb3r1nadt2LpGRZ8idO4SPPmpJv371ZKrXdLgm9NZVW9u62j2FjFPIaVJSF8K/7dxpSuYr\nneWV4sVh1Cjo1892w9NSK1EiL8nJmho1irFgwUPUqCHNhOnxxYQOktRzltZXOspJm7oQ/uXQIRg5\n0rSRaw358sF//gPDh5v7NnXmTBzh4bnIkycXERFhfPttd0qXjiA83N5fQKzmiwkdrB/S5l8uRoMj\n0cwkl0vap4TwC2fOwDPPwI03wsyZZnja4MFmeNrIkbZO6GvWHKR27QkMG/bt5X2VKxeWhJ4FvpTQ\nQUrqOUsVU+LJAAAgAElEQVTa04XwH3Fx8NFHMGaM6c0O0LUrjB5t2s9tLCnJwejRa3jjjZ9xODS7\nd58iPj5RknkAkKSek+IkqQvh85KSYNo0M43rv/+affffb1ZPq1fP0tDcceTIObp1W8wvvxxGKRgx\n4g5GjbqLkBCpmHWXL8wclx5J6jlJOskJ4bu0hqVLTSe4yEizr149Mzzt3nutjc1NS5f+RZ8+y4iK\nSqB06Qhmz36Qu++23xh5u/OFmePSI0k9J0n1uxC+6eef4bnnYONGs33DDWZ42sMP23Z4Wlq++GI3\nUVEJtG17I9Omtado0TxWh+TTfK09HSSp56x4Z893SepC+IZdu0zJfPlys12s2JXhaaGh1sbmJodD\nExRkxplPmNCWu++uyOOPy9jz6+XLVe8gvd9z1uWSugxnE8LWDh+G3r2hVi2T0PPmNcl83z548kmf\nSOhaa6ZM2cptt31OfHwiAPnzh9GvX31J6Nngy1XvICX1nCVt6kLY29mzpsPbJ5/AxYtmeNqAAWZ5\n1BK+83d77lwCAwYsZ8ECs7ral1/+wWOP1bY4Kv/ii1XvIEk9Z0nvdyHsKT4ePv7YJPRz58y+zp3h\njTegShVrY8uijRuP0rXrIg4ejCZfvlA++6wNPXrUsjosn5d6jndfJUk9J0lHOSHsJSkJZswwVev/\nOFd+bt7c9Ghv0MDa2LLI4dC89946RoxYTVKSg/r1SzFvXieqVi1idWh+wZcWbcmIJPWcJGupC2Ef\nf/xh1jLfts1s16ljkvl994EPtjmvWLGHF174AYDhwxvz9tv3yrrnOcS1c5wepS2MJPskqeeUSzGQ\nFAchuSGXfaeNFMLvaQ3//a+Zlz0hASpUMMPTunTxqeFpqbVteyNPPNGAdu1upFWrqlaH41d8vXOc\nK0nqOcW1Pd0HSwFC+IXjx6FPH/jmG7Pdu7eZ6jUiwtq4rsOlS8mMGrWanj3rcPPNRVFKMX68bw+3\nsjtf7RznSpJ6TpH2dCGs9fXX0LcvnDoFhQrBpElmbXMftHfvWbp2XcTmzf/y3Xf7+e23fjJMTbjF\nd+ui7EZ6vgthjdhYGDgQHnjAJPR77jFrnvtoQp8zZyf16k1k8+Z/qVChAJ980koSuoe0mdsG9Zp/\nvbdSUs8p0klOCO/bsgW6dzdztYeGmrbzYcN8su08JuYSTz21khkzdgDw8MPVmTSpHQUL5rY4Mv/l\nLz3eXUlSzylxMpucEF6TnAzvvWcmjUlKgurVYe5cqO2bE7AkJzto2nQqO3acIDw8hI8+ailTvXpQ\n6jHpvt7j3ZXvfZ21K2lTF8I7Dh82Y81ffNEk9CFDYPNmn03oAMHBQQwc2ICaNYuzeXN/merVw/yx\nhJ5CSuo5RdrUhfC8uXNh0CAzK1zJkjB9OrRoYXVU1+X06Th27jxB8+ZmadQBA+rTu3cdwsLk37Kn\n+HMJPYWU1HOKzPsuhOdER5u28+7dTUJv3950hvPRhP7TTwepXXsCDzwwj7//PgOAUkoSuof5cwk9\nhXyCcoqU1IXwjLVr4dFHTbV7njwwbhw8/rhPzgeRlOTg9dfX8MYba9Eabr+9nCRyLwiEEnoK+TTl\nlDhZS12IHHXpErz6KowZY2aJa9AA5syBG2+0OrLrcvjwObp1W8S6dUdQCl555U5GjmxGSIhUmOa0\njBZn8dcSegpJ6jkhKQEunoOgEMhd0OpohPB9kZGmqn3LFjM87aWXzKIsuXJZHdl1WbVqL126LCI6\nOoHSpSOYPftB7r67ktVh+a20Enrrqq39Ysa4zEhSzwmXS+nFQcm3biGum9ZmJrjhwyEuzszbPmsW\n3HGH1ZFlS8mS+YiPT6Rt2xuZNq09RYvmsTqkgODP1ezpkaSeE6Q9XYjsO3XKtJV/9ZXZ7tEDPv0U\nChSwNq7r9O+/Fyhd2sw5X7t2STZtepxatUrIUDUPc11xLRBJsTInyBh1IbLnm2/glltMQi9QAObN\nMyV0H0zoWmsmT95ClSofM2/e75f3165dUhK6F/jTimvXQ5J6TpApYoW4PvHxMHgwtG4NJ05As2Zm\nqFqXLlZHdl2ioxPo3Hkh/fsvJz4+ifXrj1gdUsAKhPbztEj1e05IqX4PlylihXDb9u2mM9wff0BI\nCLzxBjz7LAQHWx3Zddmw4Qjdui3m4MFo8uULZcKENnTvXsvqsESAkaSeE2TiGSHc53DAhx/Cyy+b\nYWs33WSGqtWvb3Vk18Xh0Lzzzi+88spqkpM19euXYv78h6hSpbDVoQWcQG9PB6l+zxnSpi6Ee44e\nhfvug//8xyT0gQNh61afTegA8fGJTJ++g+RkzTPPNGH9+r6S0C3gOjY9UNvTQUrqOUN6vwuRuYUL\noX9/iIqCYsXg88+hXTuro7puWmuUUuTNG8r8+Z04fjyGVq2qWh1WQEqd0AO1PR0kqecM6SgnRPou\nXDArqU2fbrZbt4apU6GEb/69XLqUzIsvfs+FC5eYNMl8Kalbt5TFUQU2SehXSFLPCbKWuhBpW7/e\nzNu+fz/kzg0ffABPPOGT87YD7N17li5dFrJlyzFCQoJ45pkm3HRTUavDEk6BntBB2tSzz5EE8WcA\nBeHyxy0EYNY5HzXKzAS3fz/UrWvazgcN8tmEPnv2TurWnciWLceoWLEgP//cWxK6sB0pqWdX3ClA\nQ3gxM/e7EIFu714zG9ymTSaBP/ccjB4NoaFWR3ZdYmIu8dRTK5kxYwcADz9cnUmT2lGwYG6LIxMg\nPd5TkyyUXTKcTQhDa5g2zbSfx8ZC2bIwcybcfbfVkWXL6NFrmDFjB+HhIXz0UUsef7yezAxnI9Lj\n/WqS1LNLer4LAWfOmJ7tixeb7c6d4bPPoFAha+PKASNG3MmePWd5883mVK9ezOpwRDqkPd2QNvXs\nknXURaD7/nuoVcsk9IgIUzqfN89nE/qpU7EMGfINcXGJAEREhLFkSWdJ6DYkVe/XcqukrpQKBcpr\nrfd6OB7fEys930WASkgw65yPHWu2b7/dLMJSyXfXCV+9+gDduy/m2LEYgoMVY8e2tDokkQGper9W\npiV1pVQb4HfgO+d2HaXUEk8H5jOk+l0Eol274NZbTUIPDjYd4X76yWcTelKSg1de+ZF77pnJsWMx\nNG1anmHDmlgdlsiAayldqt6vcKek/jrQCFgNoLXerpSq4tGofIl0lBOBxOGATz6B55+HixehShWY\nPRsaNbI6sut26FA03bsvZt26IygFI0feySuvNCMkRFon7UxK6WlzJ6knaq2jU/X21B6Kx/fIvO8i\nUBw7Br17w6pVZrtvXxg3DvLlszaubDh8+Bx16kwkOjqB0qUjmDOnI3fdVdHqsEQGXKeEBSmlp+ZO\nUv9TKfUIEKSUqgQMATZ6NiwfIlPEikCwdCk8/rjp5V64MEyZAg8+aHVU2VauXH5atapCTMwlpk5t\nT9GieawOSaQjdTIHKaWnxZ2k/hQwEnAAi4FVwEueDMqnyFrqwp/FxsKwYTB5stm+7z4zh3vp0paG\nlR27d58kODiIm28uilKKqVPbExYWLGPPbSitRA4yx3tG3EnqLbTWzwPPp+xQSnXEJPjAph0uQ9ok\nqQs/89tv0L07/P03hIXBmDFmYpkg32xr1lozefJWhg79lqpVi7Bp0+Pkzh1C7twyXYcdpVcyl2Se\nMXc+zSO4NoG/nMa+wBN/FnQyhBWEkDCroxEiZyQnmwT+6qtmDvdbboE5c8xPHxUdnUD//l/z5Zd/\nAFCvXimSkx0WRyXSkjqZSyLPmnSTulKqBdASKKOU+tDlUH5MVbyQ4WzC3xw8aFZV++UXsz1sGLz1\nlllhzUdt2HCErl0XcejQOSIiQpkwoS3duvnuFxR/Jwk9ezIqqZ8EdgEJwG6X/ReAFzwZlM+QTnLC\nX2htSuNPPgnnz0OpUjBjhmlD92EffriB5577juRkTYMGpZk/vxOVKxe2OiyRDtex53qUDLK6Hukm\nda31NmCbUmqO1jrBizH5DllHXfiDqCizxvmCBWa7Y0eYNAmKFLE2rhwQERFKcrLm2Web8Oab9xAa\nGmx1SCIDMvY8+9xpUy+jlHoTqA5croPTWt+Y2QOVUi2Bj4BgYIrWekwa59wFjANyAae11s3cC90G\npPpd+LqffoLHHoMjRyBvXvj4YzMW3Yd7gh8/HkPJkmbs/OOP16N+/dLUq1fK4qhEZmSGuJzhTjfW\n6cA0QAGtgC+ABZk9SCkVDPzX+ZjqQFelVPVU5xQExgMPaK1rAA9nJXjLycQzwlddumRmhWve3CT0\nRo1g+3bo08dnE/rFi0kMH76KqlU/ITLyNABKKUnoPkJK6TnDnaSeR2u9CkBrvU9rPQKTqDNzK7BX\na71fa30JmA+0T3VON2Cx1vqw8/lPuh+6DcgUscIX/fknNG4M776Lc15U+PlnM+Wrj/r77zPcdttU\nxo7dSHx8Ihs3HrU6JOGmNnPboF678kVSSunZ4071+0WlVBCwTyk1EPgHiHDjcWWAIy7bRzFzyLu6\nEcillPrJ+Zwfaa1npn4ipVR/oD9A+fLl3bi0l0j1u/AlWps1zp99FuLjzeIrs2fDbbdZHVm2zJq1\ng0GDVhITc4mKFQsyb14nGjcua3VYIh3pTSgDUkrPCe4k9WFAXsz0sG8CBYA+OXj9+sA9QDiwQSm1\nUWu9x/UkrfUkYBJAgwYN7NMlUtZSF77ixAkzV/sKZynoscfMwiz581sbVzZcuHCRJ59cyaxZOwF4\n5JEaTJzYloIFfXf4nb+TGeI8L9OkrrXe5Lx7AXgUQClVxo3n/gco57Jd1rnP1VHgjNY6FohVSq0F\nagN78AWylrrwBStWmLbykyehYEGYOBEeecTqqLLt0KFzfPnlH4SHh/DJJ63o06euTPVqUzKhjPdk\nmNSVUg0x1ei/aK1PK6VqYKaLbY5J0hn5DajqXATmH6ALpg3d1TLgU6VUCBCKqZ4fm+VXYQWtpU1d\n2FtcHPznPzB+vNm++24z9rxcuYwfZ2Na68uJu2bN4syc2YEaNYpTvXoxiyMTGZGE7j0ZzSj3NtAJ\n2AGMUEotBwYB7wADM3tirXWSUuopzAIwwcBUrfVuZ7s8WusJWus/lVLfAjsxs9RN0Vrvyu6L8opL\n5yH5IuTKa25C2Mm2bdCtG/z1F+TKBW++Cc8847PztgOcOhVLr17L6NKlBo8+WhuAhx+uYXFUIjMy\noYx3ZVRSbw/U1lrHK6UKYzq93aK13u/uk2utVwIrU+2bkGr7PeA990O2CRnOJuzI4YD334cRIyAx\nEapVMzPF1a1rdWTZsnr1Abp3X8yxYzHs2nWSzp1rykQyPsC12l06wXlHRl/bE7TW8QBa67PAnqwk\ndL8nneSE3Vy8aErnzz9vEvqTT8LmzT6d0JOSHIwY8SP33DOTY8diaNq0PD//3FsSug9IndClyt07\nMiqp36CUSlmJTQGVXLbRWnf0aGR2J1PECjuJjoYOHWDNGoiIgLlzoW1bq6PKlkOHounWbTHr1x8h\nKEjxyit38MorzQgJ8d0mhEAiCd0aGSX1Tqm2P/VkID5HOskJuzhyBFq1gt27zUIsK1dCnTpWR5Ut\nWmu6dFnExo1HKVMmgjlzOtKsWUWrwxJukilfrZPRgi4/eDMQnyNt6sIOfv/dJPR//jHt5998AxUq\nWB1Vtiml+OyzNrz55s9MmNCGIkXyWB2ScJO0o1tL6rGul8wmJ6y2ejU0bWoSetOmZg10H07ou3ef\nZPToNZe369QpyZdfPiwJ3cdItbu13JlRTqRF1lIXVpo/H3r2NAuzdOpkpnvN7ZszqWmtmTRpC0OH\nriIhIYmaNYvz4IPVrA5LZJMkdGu4XVJXSoV5MhCfIx3lhBW0hg8+gK5dTUIfMsSsg+6jCT0qKp5H\nHlnIwIErSEhIonfvOtx/f2WrwxLCZ2Wa1JVStyqlfgf+dm7XVkp94vHI7E6q34W3ORwwbJhZkAXg\nvfdg3DgI9s3hXevXH6FOnYksXPgHERGhzJ3bkalT25M3b6jVoQnhs9ypfv8YaAssBdBa71BK3e3R\nqHyBdJQT3pSQAI8+CgsXmhnipk83Y9J91PLle+jQYT7JyZqGDUszb14nKlcubHVYIhsyWn1NeI87\nST1Ia30o1UIJyR6KxzckxkFiDASHQlgBq6MR/i4qCtq3N2ue588PS5ZA8+ZWR5UtzZpVoEqVwjzw\nwE288UZzmUzGD6Se311Yw52kfkQpdSuglVLBwGB8ZRU1T3GtepdVoYQnHT5shqz98QeUKWPGoNeq\nZXVU1+X77/fTpElZ8uYNJSIijK1bB5AnTy6rwxLZlLqELvO7W8udjnJPAMOB8sAJoLFzX+CSKWKF\nN+zYAU2amIReowZs2OCTCf3ixSSGD1/FfffNYujQby/vl4Tu29rMbYN6TUkJ3WbcKaknaa27eDwS\nXyLrqAtP++EHePBBuHAB7rwTli6FQoWsjirL/v77DF26LGLr1mOEhARRpUrhq5ZPFb5J1ke3L3eS\n+m9KqUhgAbBYa33BwzHZn/R8F540dy706mUWZXnkEbMGug8OWZs1aweDBq0kJuYSlSoVZN68TjRq\nVNbqsEQOkAlm7CvT6netdWXgDaA+8LtSaqlSKrBL7jLvu/AEreHdd6F7d5PQhw2DefN8LqEnJibz\n6KNLeOyxpcTEXKJz5xps2zZAErofSKlyTyEJ3X7cmnxGa71eaz0EqAecB+Z4NCq7k+FsIqclJ8PT\nT5tlU8FMMPPhhxDkezM5h4QEobUmPDyEKVPaMW9eJwoU8K0vJiJt0n5uf5lWvyul8gHtgS5ANWAZ\ncJuH47I36SgnclJ8PPToAYsXQ2gozJwJnTtbHVWWaK05fTqOYsXyopRi/Pg2vPzyHVSrVszq0EQO\ncV15TXq425c7beq7gK+Bd7XWP3s4Ht8gU8SKnHL2LDzwAKxbBwUKmA5xd91ldVRZcupULL16LePQ\noWh++60f4eG5yJ8/jPz5JaH7E1l5zTe4k9Rv0Fo7PB6JL5E2dZETDh40Y9D/+gvKljXLptasaXVU\nWfLjjwfo0WMxx47FUKhQbv788zT16pWyOiyRg1L3dJd2dHtLN6krpT7QWj8DLFJKXVPXorXu6NHI\n7Ex6v4vs2r7dJPTjx00i/+Ybk9h9RGJiMq+++hNvv/0LWsMdd5RnzpyOlCsnMyz6k7SGrgl7y6ik\nvsD581NvBOIzki9BQhSoYAgvYnU0whd9951ZLvXCBVPVvmQJFCxodVRuO3gwmm7dFrFhw1GCghQj\nR97JiBF3EhLie536RPpcE7oMXfMd6SZ1rfWvzrvVtNZXJXal1FPAD54MzLbiTpmfeYqBkn9iIotm\nzYI+fSApCbp0MQuzhPnWqsarVx9gw4ajlCkTwZw5HWnWrKLVIYkcJBPL+DZ32tT7cG1pvW8a+wKD\ndJIT10NrGDMGXnrJbD/7LLzzjs8MWXOdBa5XrzpERyfw2GO1KVIkj8WRiZwkCd33ZdSm3hkzjK2S\nUmqxy6EIINrTgdmWtKeLrEpOhiFDYPx4swDQ2LFmTLqP2LXrJH37fsX06e2pVq0YSimGDWtidVgi\nh0l1u3/IqKT+K3AGKAv812X/BWCbJ4OyNZl4RmRFfLxZ93zpUlPNPmsWPPyw1VG5RWvNpElbGDp0\nFQkJSYwc+RNffukbsYusk4TuHzJqUz8AHAC+9144PkBK6sJdZ85Au3ZmdbWCBWHZMrM4iw+Iioqn\nX7+vWbToTwD69KnDxx+3sjgq4Q2S0H1bRtXva7TWzZRSUYDrkDYFaK11YY9HZ0cyRl2448ABaNkS\n9uyBcuXMkLUaNayOyi3r1h2mW7fFHD58joiIUCZObEvXrrdYHZbwINfZ4oRvy6j6/W7nz6LeCMRn\nyBSxIjNbt0Lr1nDihFn/fOVKKFPG6qjcEhUVT6tWc7hw4RING5Zm3rxOVK4cmN/fA4nMFuc/Mqp+\nT5lFrhzwr9b6klKqKVALmI1Z2CXwyFrqIiOrVsFDD0FMDDRvbuZzL+A7E7IUKhTOBx/cz969Zxk9\nujmhocFWhyS8SKrefZ87Q9qWAg2VUpWBacByYC7Q1pOB2Za0qYv0TJ8O/fqZMejdusG0aWaBFptb\nufJvLly4SOfOZorafv3qWxyREOJ6uTNI1qG1TgQ6Ap9orYcBvlGX6AnSpi5S0xrefBN69zYJ/bnn\nTC93myf0ixeTGDbsW9q0mUvfvl9x8GDgjlQNVKnXRxe+z52SepJS6mHgUaCDc18uz4VkY45kiD9t\n7ofLClQCk8SfegomTjRj0D/6CAYPtjqqTO3Zc4auXRexdesxQkKCGDmyGeXL+04zgcg+mdfdP7k7\no9wgzNKr+5VSlYB5ng3LphLOgHZA7iIQHJjfa4SLuDgz1evXX5sx6HPmmDndbW7mzB0MGrSC2NhE\nKlUqyLx5nWjUyHcWkxE5Q8al+6dMk7rWepdSaghQRSl1M7BXa/2m50OzIekkJ1KcOmXGoG/aBIUK\nwVdfQdOmVkeVqZEjVzN69FoAunSpyYQJbShQILfFUQlvcx3CJgndv2Tapq6UugPYC3wOTAX2KKVu\n93RgtiTt6QJg3z64/XaT0CtUgHXrfCKhAzz8cHUKFw7n888fYO7cjpLQA5QMYfNf7lS/jwVaa63/\nAFBKVQNmAQ08GZgtSc93sXkztGkDJ09CnTpmDHqpUlZHlS6HQ7Nq1V5ataoKwC23lODQoaHky2fv\nTnzCO6SU7n/c6f0empLQAbTWfwKB+R9B5n0PbN98Y9Y/P3kS7r0X1qyxdUI/eTKWtm3n0rr1XGbP\n3nl5vyT0wCazx/k3d0rqW5VSEzATzgB0J1AXdEmZTU6q3wPP1KnQv79Zce3RR2HKFFsPWfvhh/30\n6LGE48djKFQoNwUK+Naa7SJnpe7pDlL17q/cKakPBPYDzzlv+4EBngzKtlKq38Olo1zA0Bpefx36\n9jUJ/cUXYcYM2yb0xMRkXnrpB+67bxbHj8dw550V2LFjIO3a3WR1aMIi6SV0qXr3TxmW1JVStwCV\ngSVa63e9E5KNSUe5wJKUBIMGweTJZgz6p5+abZs6duwCHTt+wcaNRwkKUowadScjRtxJcLA7392F\nP5FEHrgyWqXtJaAvsBUzTezrWuupXovMjqRNPXDExkLnzrBiBeTODfPmQYcOmT/OQvnzhxEVFU/Z\nsvmZM6cjd95ZweqQhAUkoQe2jErq3YFaWutYpVQxYCVmSFvgkpJ6YDh5Etq2hd9+g8KFzeQyt91m\ndVRpiotLRGtN3ryh5M0byldfdaVIkXCKFMljdWjCy9KaIU4SeeDJqF7uotY6FkBrfSqTc/2f1rLs\naiDYu9ck8N9+g4oVYf162yb0XbtO0rDhZAYP/ubyvhtvLCIJPQBJQhcpMiqp36CUWuy8r4DKLtto\nrTt6NDK7uRgNjkQIzQ8hMmGHX/r1V1NCP3UK6tY1Y9BLlrQ6qmtorZk4cQvDhq0iISGJ5GQH584l\nyEQyAUiSuUgto6SeehLrTz0ZiO3JFLH+bfly04YeFwf33w8LF0JEhNVRXSMqKp7HH/+axYv/BKBP\nnzp8/HEr8ua1Z2984TmS0EVa0k3qWusfvBmI7clscv5r8mQYOBAcDujZ02znst+CPevWHaZbt8Uc\nPnyO/PnDmDixLV261LQ6LOFF0glOZCaw28mzQjrJ+R+tYdQoM6mMwwEjRsC0abZM6ABTpmzj8OFz\n3HprGbZtGyAJPcBIQhfucGdGOQEynM3fJCaa0vnUqRAUBOPHwwD7zamktUYpBcDHH7fk5puLMHx4\nE3LlCrY4MuFNrgldErnIiNsldaVUYM8zGS893/1GTAy0b28Seng4LFliy4S+fPke7rprBnFxiQBE\nRITx/PNNJaEHGEnoIivcWXr1VqXU78Dfzu3aSqlPPB6Z3UhHOf9w4oRZlOWbb6BIEfjxR3jgAauj\nusrFi0kMHfot7drNY+3aQ0yatMXqkIRFJKGLrHKnpP4x0BY4A6C13gHc7c6TK6VaKqUilVJ7lVIv\nZHBeQ6VUklLqIXee1xLSpu779uyBJk1gyxaoVMmMQW/c2OqorrJnzxmaNPmcjz7aREhIEO++ey9D\nhjSyOixhEUnoIqvcaVMP0lofSmnXc0rO7EFKqWDgv8B9wFHgN6XUV67LuLqc9w7wP7ejtoL0fvdt\n69ebKvfTp6F+fTP9awl7/S5nztzBoEEriI1N5IYbCjFvXiduvbWM1WEJi7gukSoJXbjLnZL6EaXU\nrYBWSgUrpYYCe9x43K3AXq31fq31JWA+0D6N8wYDi4CT7gZtCeko57umTDFV7qdPQ6tW8NNPtkvo\na9YcpGfPpcTGJtK1a022bRsgCT2Apa52F8Jd7pTUn8BUwZcHTgDfO/dlpgxwxGX7KHBVPaJSqgzw\nIKY6v2F6T6SU6g/0Byhfvrwbl/YAWUvd9yQmwrBh8N//mu2nnoIPP7TlkLU776xA//71aNy4LL16\n1SFVzZgIMFLtLq5Xpklda30S6OKh648DntdaOzL6J6a1ngRMAmjQoIH2UCzpuxQDSXFmethc+bx+\neXEdTp2CRx4xpfLQUPjsM+jTx+qoLnM4NOPGbaRlyypUr14MpRQTJ7azOixhsdRj0SWhi6zKNKkr\npSYD1yRSrXX/TB76D1DOZbusc5+rBsB8Z0IvCrRWSiVprZdmFpdXubanSwnK/rZvN8ukHjpk5m5f\nvNh0kLOJkydj6dlzKd9+u5fp07ezdesAQkJkHqhAldakMiDV7uL6uFP9/r3L/dyY6vIj6Zzr6jeg\nqlKqEiaZdwG6uZ6gta6Ucl8pNR1YbruEDtKe7ku++AJ69YL4eGjY0IxBL2OftukffthPjx5LOH48\nhsKFwxk9+m5J6AEovUQOUuUussed6vcFrttKqVnAL248Lkkp9RSwCggGpmqtdyulBjqPT7i+kC0g\nPd/tLzkZXnkF3n7bbPfsCRMmQG57rFyWmJjMqFE/MWbML2ht2tDnzOlI2bL5rQ5NeJlM9yo86Xqm\niXMvGaMAACAASURBVK0EuJXdtNYrgZWp9qWZzLXWva4jFu+QMer2du4cdO9uhqkFBcEHH8DTT9um\nqURrTatWc/jhhwMEBSlGjbqTESPuJDhYSuiBRiaTEZ7mTpt6FFfa1IOAs0C6E8n4pTiZIta2IiPN\n+PPISChUyFS/33uv1VFdRSlF1641iYw8w9y5HbnjjgpWhyS8TJZJFd6SYVJXpgdbba50cHNorb3f\n+9xqMkWsPa1cCV27wvnzULMmLF0KlStbHRUAcXGJbN16jKZNzRDMPn3q8sgjNYiICOwlFAKNVLUL\nb8uw/s+ZwFdqrZOdt8BL6CBt6najNbzzDrRtaxL6gw/Chg22Sei//36Chg0n06LFbP788xRgSuuS\n0ANP6tK5HqUloQuPcqdNfbtSqq7WepvHo7EraVO3j7g46NsX5s8326+9ZtZBD7K+fVprzYQJmxk+\n/H8kJCRRrVpRHI7A/B4srqZHyedAeEe6SV0pFaK1TgLqYuZt3wfEAgpTiK/npRitJyV1ezh0yJTK\nt22DfPlg1iwzHt0Gzp6N5/HHv2LJkr8AePzxuowb15K8eUMtjkxYxXXudiG8JaOS+q9APcBe61Ja\nQTrKWW/tWujUyczfXrkyLFsGNWpYHRUAv/76Dw899AVHjpwnf/4wJk1qS+fONa0OS1hM5m4XVsgo\nqSsArfU+L8ViT0kJcPEcBIVA7oJWRxN4tDbjzYcMgaQkuO8+U/VeuLDVkV2WN28uTp2Ko1GjMsyb\n14lKlQpZHZKwQHoTykgbuvCmjJJ6MaXU8PQOaq0/9EA89nO5lF4clPXttgHl0iWzCMvkyWb7mWdg\nzBgIuZ7pFXLW2bPxFC4cDkCNGsVZvbon9euXIleuYIsjE96S0axwKaSULrwto/+OwUA+nCX2gCXt\n6dY4ccJUt69bB2FhZvnUHj2sjgqAr7+OpHfvZXz4YQsee6w2AI0bl7U4KuEtMsWrsLOMkvoxrfXr\nXovErmTed+/bvNl0iDt61MzbvnQpNGhgdVRcvJjEc899x8cf/wrA11/vuZzUhX/LaNEVSeLCTjJt\nUw94so66d82eDf36QUIC3HYbLFpkVlqzWGTkabp0WcT27ccJCQlizJh7GDbMPiu/Cc+SCWSEr8go\nqd/jtSjsLKX6PVxmk/Oo5GR44QV4/32z3a8ffPKJqXq3kNaamTN38OSTK4mNTeSGGwoxf34nGja0\nz8pvwnNSl9BlvLmwu3STutb6rDcDsS2ZeMbzoqKgSxf43/9MJ7iPP4aBA22xIMulS8mMGbOO2NhE\nunW7hc8+a0P+/DIzXCBIa752IezO+m7Edidt6p61e7dZkGXfPihaFBYuhGbNrI7qsrCwEBYseIgt\nW/6lV686KBt80RCeJ6upCV8lST0z0vvdc5YtMz3aY2KgTh3TIa6CtSuYORyasWM3EBl5hkmT2gFQ\nq1YJatWS33+gkIQufJkMvM6MVL/nPIcDXn/dTPEaEwOdO5uhaxYn9JMnY2nTZi7PPvsdkydvZfPm\nfy2NR1hDErrwZVJSz4xMEZuzYmKgZ0/+396dh1VZpg8c/z4gq4gb5FWiYqnlkpLi6KiZluWuuYKa\npmbmZO7+lJqpdKYat7TcMnPBcoE0t8zcSp3SXLBcSnDGLWUkRE0NEAF5fn+8BwaU5SBn45z7c11c\ncd719pW8eZb3fli/3hgzf+89mDzZ7uPnu3adZeDADfz2WzKVK/uwfHl3QkMfsmtMwr4koYvSSJJ6\nYbIy4dZVQIFPZXtHU/qdPWuMn//8M5QvD6tXQyf7Tj7KyLjDW2/tZvr0fWgNTz1Vg1WrelK1qr9d\n4xK2ZU51OCFKA+l+L0xqEqDBJ8Co/S7u3zffQNOmRkJ/9FE4eNDuCR1gxox9TJu2D6UUU6e24Ztv\nBklCdzH5JXSZ6S5KK8lUhZHx9JLTGj78ECZONN5F79wZVq0yWuoOYMyY5uzZ8ytvvdWaJ5+075i+\nsK38XlmTLndR2klLvTAy871k0tJgyBAYN85I6G+8Ycx4t2NCT03N4K23dpOSkg6An58nO3cOlITu\ngiShC2ckLfXCyCS5+3fpklG//dAh8PGB5cuNWe52dOJEImFh64iNvcLlyyksWtTFrvEI2ypo3Fyq\nxAlnIkm9MDmFZ6REbLEcOAA9e0JCgvGa2saNxnvodqK15qOPYhg/fju3b9+hbt0AXn21qd3iEbZV\n1KpqQjgTSeqFke734lu+3Cjxmp5uVIZbuxYCA+0WzrVrtxg2bDMbNsQBMGzYE3zwQQfKlvW0W0zC\ndmTcXLgaSeqFkYly5svIgAkTjEVYAF57DWbPBg8Pu4WUlJRCkyaLuXjxJv7+Xixe3IWwsAZ2i0fY\nllSGE65IknphpO67ea5cgb59YfduI4kvXAjDhtk7KgIDy9KmTTD//vdV1qzpRc2aFe0dkrAiWfNc\nCEnqhZO11It2/LhRUOb8eahSxagU16KF3cL5739vkpyczqOPBgCwaFEXPDzc8PBwt1tMwjrMKRgj\nCV24GknqhZG11Au3di0MHgypqRAaChs2QFCQ3cL58stTDBmyiSpV/Dh8+GV8fT3w9bVf97+wjqIm\nvkkSF65MknpBdFauV9okqeeRlQVvvw3vvGN8HjgQPv7YeHXNDtLSMpk8eSdz5x4CoGnTqqSlZUpC\nd1Iy8U2IgklSL8ita6DvgFcFKONl72gcx82bxnKpX34Jbm4waxaMHWu3BVlOnbpCePgXHD36G2XK\nuDFt2jOMG/dn3Nxk3XNnc3cLXd4vF+JektQLIq+z3evf/zaWS42NhYoVIToann3WbuGsWnWcV17Z\nQkpKBg8/XJGoqF40bVrVbvEIyzB3rFwIcS9J6gWR19ny2rYNwsPhxg2oX98o9/rII3YNKSMji5SU\nDPr3f5yPPuqMv7/0qDiDwhK6dLcLUThJ6gWRErEGrY0u9ogIYyz9+efh00+hXDm7hHP9ehoVKngD\n8OKLjQgOrsBTT9VA2Xk9dmF50r0uRPHJgi4FSZUSsaSmwoABMGmSkdCnTIEvvrBLQs/K0sycuY/g\n4A84eTIJAKUUbdoES0J3Ep1Xd0ZNlb9LIUpCWuoFcfXCMxcuGAuy/PgjlC0Ln31mfLaDxMRkXnxx\nI9u3nwFg27bT1Ktnv9KzwjruntUuhCg+SeoFceUx9e++g9694fJlePhhY/y8gX3Kq+7ceYaBAzeQ\nmJhC5co+REY+T5cudewSi7AOmdUuhOVI93tBXHX2+9Kl8PTTRkJv1w4OH7ZLQs/IuMPkyTt57rmV\nJCam0KZNMMeOjZCE7mTyW3BFCHH/pKVeEFecKLdu3f9qto8bBzNmQBn7/IicO3edefMO4e6umDKl\nDa+/3gp3d/kd1NnIgitCWJYk9YK42lrqhw4ZleEApk2DyZPtGk6dOpVZtqw71ar507JldbvGIqyj\n8+rOOd9LQhfCMqTpkx+tXWtM/cIF6NYN0tKMlvqkSTYPISUlnWHDNrN8+U8528LDG0hCd2K5W+lC\nCMuQlnp+0m/CndvgUdb4cmY3b0KXLpCYaIylL1xo85Kvx48nEha2jri4K2zcGEffvvUpW9bTpjEI\n6yuoUpy00oWwHGmp58dVXmfLzDSqxJ04AY89Zoype9huERStNQsWHOJPf/qEuLgr1K0bwO7dL0pC\nd1IFrXUuhLAcaannx1UmyY0bB19/DQEBsGWLUc/dRq5du8VLL21m48Y4AF5+uTEffNBBVlZzAfLK\nmhDWI0k9P65QTW7ePJg/Hzw9YeNGm9dxHzBgPdu2naZ8eS8++aQrffrUt+n9hXWZsyiLEMLyJKnn\nx9knyX31lbFcKsDy5dCypc1DmDnzWdLT77B0aTeCgyvY/P6i5O4ncUt3uxDWJUk9P848pn7smDGO\nnl3LvX9/m9w2Pv4mq1efYNIk4xeIBg0e4JtvBtnk3sKyzE3m8u65ELYnST0/zlpNLiHBmOmenGwk\n87fessltN28+xZAhm7h27RZBQf707/+4Te4rrOPuCnCSuIVwHJLU8+OM3e+pqca76PHx0KKFUQ7W\nyq+upaVlMmnSTubNOwRAx461aNfuYaveU1hX7oIxMuFNCMcjST0/zjb7PSvLqBYXEwM1axoT47y9\nrXrLuLgrhIev49ixRDw83Jg2rR1jxzbHzU2W1iwtCutml7FxIRyTJPX8ONvs9zfegPXroXx5Y5Jc\noHWXLf3uu1/p0GEVqakZ1KpViTVrehEa+pBV7yksw5zxculyF8JxWTWpK6U6AB8C7sASrfW0u/YP\nACYDCvgD+IvW+pg1YzKLM02UW7oUpk83Fmb54guoW9fqt2zc+EGqVy9PaOhDLFzYiXLlvKx+T1Fy\n+SV0SeBClC5WS+pKKXdgAfAsEA8cVkpt1lqfzHXYOeAprfXvSqmOwGKgmbViMktGKmQkg7sneJW3\naygl9u23MGKE8f3ChfDMM1a71ZEjl3j00QD8/DwpW9aT/fuHUrGij9XuJyxDErkQzsWaZWL/BJzW\nWp/VWqcDUUD33AdorfdrrX83fTwABFkxHvPknvlu4xroFhUXB716GaVg/+//4OWXrXKbrCzNzJn7\naN58KaNGfZ2zXRK645OELoTzsWb3e1XgYq7P8RTeCn8J+LqQ/bbhDJPkrlyBzp3h+nV4/nljKVUr\nSExM5sUXN7J9+xkAypf3IitLy2Q4ByaJXAjn5hAT5ZRSbTGSeqsC9g8HhgNUr27lpThL+zrqt28b\nifzsWWjSBFauBDfLd8js2HGGQYM2kJiYQuXKPkRGPk+XLnUsfh9hGQVNgJOELoRzsWZS/y9QLdfn\nINO2PJRSDYElQEet9dX8LqS1Xowx3k5oaKh1X44tzYVntIaXXoJ9+yAoCDZvhrKWXTo2K0vz+uu7\nmDFjPwBt2gSzcmUPqlb1t+h9hGVJwRghXIM1k/phoLZSqiZGMg8H8tQkVUpVB9YDA7XW/7ZiLOYr\nzYVn/vEPWLUK/PyMVdcesvxrZG5uisTEFNzdFVOntiEiohXu7rKCryPKr3UuBWOEcG5WS+pa60yl\n1GvAdoxX2pZprX9RSo0w7V8EvAVUBhYqY1JaptY61FoxmaW0vs62ejW8/bbR1R4VBY0aWfTyN2/e\nxt/feDVt/vxOjBgRSvPm9p/XKO5VWFe7EMK5WXVMXWu9Fdh617ZFub4fBgyzZgzFVhonyu3bB0OG\nGN/PmWNMkrOQlJR0Ro/+mv3744mJeZmyZT3x8/OUhO5Aiqr8Jl3tQrgOh5go51BKWzW5s2eNiXHp\n6TByJIwaZbFLHzv2G+HhXxAXdwVv7zIcPnyJNm2CLXZ9UXIyAU4IkZsk9buVpjH169eNVvmVK9Ch\nA3zwgUXerddas2DBYSZO3MHt23eoVy+Q6OjeNGhQSn7RcWKSxIU1ZWRkEB8fT1pamr1DcVne3t4E\nBQXh4eFxX+dLUr9baZn9npEBffoYRWYaNIDoaKMUbAldu3aLoUM3sWnTKQCGD2/MnDkd8PW9vx8w\nUXJF1WOXhC4sJT4+nnLlyhEcHIwqzcW3SimtNVevXiU+Pp6aNWve1zUkqed2Jx3SfgflDj6V7R1N\nwbQ2utp37YIqVYyZ7v6WeaVs+/bTbNp0ivLlvfjkk6706VPfItcV90+KxQhbSUtLk4RuR0opKleu\nTFJS0n1fQ5J6bjmT5AJBOfBrWrNnwyefGMunbtoENWpY7NLh4Q04d+46/fs/TnBwBYtdV5insFa5\nvI4mbEESun2V9Pk7cOayg9Iw833jRqOWO8Cnn0Kzkq1/Ex9/kw4dVvLzz8afXSnFG288KQndTmT9\ncuHqlFJMmDAh5/OsWbOYMmVKoeds3ryZaRYohx0ZGUlgYCAhISHUr1+f3r17k5qaWuLr2pIk9dwc\nfeb7kSMwYIDR/f7ee8aYegls2hRHo0aL2L79DOPGbbdQkMIS9Ns6z5d0twtX4eXlxfr167ly5YrZ\n53Tr1o2IiAiL3D8sLIyjR4/yyy+/4OnpSXR0tEWuayuS1HNz5MIz8fHQtSukpsLgwVCCH+C0tExG\njdrK889Hc+3aLTp1qs3q1T0tF6sQQtynMmXKMHz4cObMmXPPvi+//JJmzZrxxBNP0K5dOxITjX+z\nIyMjee2117hx4wY1atQgKysLgJSUFKpVq0ZGRgZnzpyhQ4cONGnShCeffJK4uLhC48jMzCQlJYWK\nFSsWeO+srCxq166dMwaelZVFrVq1SEpKIikpiV69etG0aVOaNm3Kvn37ANi7dy8hISGEhITwxBNP\n8Mcff1js2YGMqeflqDPfk5OhSxdISICnnoKPP77vV9fi4q4QHr6OY8cS8fBwY/r0dowZ01xWVrOz\noma4C2Fz71vp34QJRc8NGTlyJA0bNmTSpEl5trdq1YoDBw6glGLJkiXMmDGD999/P2d/+fLlCQkJ\nYe/evbRt25YtW7bQvn17PDw8GD58OIsWLaJ27docPHiQV199lW+//faee0dHR/P999+TkJBAnTp1\n6Nq1a6H3fuGFF1i1ahVjx45l165dNGrUiMDAQPr378+4ceNo1aoVFy5coH379sTGxjJr1iwWLFhA\ny5YtSU5Oxtvbu4QPNC9J6rk54jvqd+5Av35w7BjUrg3r14On531dKjU1g9atl5OUlEqtWpWIiupF\nkyaWrw8vCmZO8pbxc+Hq/P39GTRoEHPnzsXHxydne3x8PGFhYSQkJJCenp7va19hYWFER0fTtm1b\noqKiePXVV0lOTmb//v30yTVkefv27XzvHRYWxvz589FaM3LkSGbOnElERESB9x46dCjdu3dn7Nix\nLFu2jCGm6p67du3i5MmTOde9efMmycnJtGzZkvHjxzNgwAB69uxJUJBlq3NKUs/N0SbK3bkDf/mL\n8cpapUrw1VfGf++Tr68H06a1Y/fu8yxc2Ily5bwsGKwoirxvLkoVM1rU1jR27FgaN26ckyQBRo0a\nxfjx4+nWrRt79uzJdwJdt27deOONN7h27RpHjhzh6aefJiUlhQoVKnD06FGz76+UomvXrsybN4+I\niIgC712tWjWqVKnCt99+y6FDh1i1ahVgdMUfOHDgnpZ4REQEnTt3ZuvWrbRs2ZLt27fz2GOPFf8B\nFUDG1HNzpLXUb9+G/v2NV9e8vGDDBqOlXkyHDv2Xzz//JefzkCEhfPZZD0noNpY7oXeq3emeiXAy\nGU6IvCpVqkTfvn1ZunRpzrYbN25QtWpVAFasWJHveX5+fjRt2pQxY8bQpUsX3N3d8ff3p2bNmqxd\nuxYwirwcO3asyBi+//57HnnkkSLvPWzYMF544QX69OmDu7s7AM899xzz5s3LOSb7F4ozZ87w+OOP\nM3nyZJo2bVrk2H5xSVLPzVHG1LPH0D//3Cgqs307tG5drEtkZWlmzNhHy5bLGDx4I6dOGTNJ5R1U\n27s7oUvyFsI8EyZMyDMLfsqUKfTp04cmTZoQEBBQ4HlhYWGsXLmSsLCwnG2rVq1i6dKlNGrUiPr1\n67Np06Z8z42OjiYkJISGDRvy008/8eabbxZ5727dupGcnJynV2Hu3LnExMTQsGFD6tWrx6JFxlpm\nH3zwAQ0aNKBhw4Z4eHjQsWPH4j+YQiitS1dBi9DQUB0TE2Odi39UxeiCf+W/4GenseYrV6BTJzh8\nGB54ALZtgyeeKNYlfvstmRdf3MiOHWcAGDu2GdOmtcPLS0ZbbOnu7nZJ6MLRxcbGUrduXXuHUerE\nxMQwbtw4vvvuO4tcL7+/B6XUEXOWJpd/5bNl3YFbpt8IfQLtE8OFC9C+vVHPvWZN2LEDatUq1iV2\n7DjDwIEbuHw5hYAAXyIju9O5cx0rBezaijNjXRK6EM5p2rRpfPTRRzlj6fYmST1b2lXQWeBdGdzt\nsHhJbCw895zxPvrjjxtd7g8+WKxLzJt3kNGjtwHQtm0wK1f25KGHylkhWNcmyVwIkS0iIsJihW8s\nQZJ6NntOkjt40Ohyv3YNWraEL78EU8GD4njmmYcpV86TyZNbEhHRCnd3mTJRUjJjXQhRmkhSz2av\nd9R37ICePSElxVgb/fPPwdfX7NP37btAixbVUEpRr14g586NoXJl888XeZnbCpdkLoRwRJLUs9lj\n5nt0NAwcaKyNPmgQLFkCHuZ1/aekpDN69NcsW3aUZcu6MWSIMZlOErp5pAtdCOGMJKlns3Xd94UL\n4bXXjMVZxo+HmTPBzbzu8qNHfyM8fB2nTl3F27sMpewFBruRVrgQwtlJUs9mq+53rWHqVOML4J//\nhMmTzarlrrVmwYLDTJiwg/T0O9SrF0h0dG8aNHCAYjkOqrBELslbCMfz7rvvsnr1atzd3XFzc6NH\njx6kpaXxz3/+M+eYo0eP0q9fP2JjYwkODqZatWp5XicLCQkhMzOTn3/+2R5/BLuSpJ7NFiVis7Jg\n9GhYsMBolX/8MQwbZtap16+nMXjwRjZtOgXAK680Yfbs9vj62mGmvoOTRC5E6fTDDz+wZcsWfvzx\nR7y8vLhy5QonT55k8ODBeZJ6VFQU/fr1y/n8xx9/cPHiRapVq0ZsbKw9QncYMj06m7XXUk9PN8q+\nLlhgLMiydq3ZCR3A09Od//znGuXLe7F2bR8WLeoiCT2Xzqs7o6Yq1FR1T0LPXZZVEroQjishIYGA\ngAC8vIwy1gEBAbRu3ZqKFSty8ODBnOM+//zzPEm9b9++Oeuer1mzJs8+VyMt9WzWHFNPToZevYyZ\n7uXKwaZN0LZtkafduZPF7dt38PX1wNfXg3Xr+uDj40FwcAXLx1jK5ZfIJYELcf/UVOuUlNZvFzwJ\n6LnnnuPvf/87derUoV27doSFhfHUU0/Rr18/oqKiaNasGQcOHKBSpUrUzrUWRq9evRgyZAgTJ07k\nyy+/ZNWqVXz22WdWid/RSUs9m7XG1K9ehXbtjIQeGAh79piV0C9evMHTT3/KiBFbcrbVrRsoCf0u\n2S30bNIiF6L08vPz48iRIyxevJjAwEDCwsKIjIwkLCyMdevWkZWVdU/XO0DlypWpWLEiUVFR1K1b\nF99ivBbsbKSlDsbkNWuMqV+8aJR9jY2FGjWMxF6n6JKtmzbFMXToZq5du8WDD/qRmJhMlSp+lour\nlCtozFzWIRfCcgprUVuTu7s7bdq0oU2bNjz++OOsWLGCwYMHU7NmTfbu3csXX3zBDz/8cM95YWFh\njBw5ksjISNsH7UAkqQPcvg5ZGeDpD2W8iz7eHHFxRtnXixehfn2j7Ktp2b6CpKVlMnHiDhYsOAxA\np061iYzsTmBgWcvE5ATyS+jS1S6Eczh16hRubm45XetHjx6lRo0aAPTr149x48bx8MMPExQUdM+5\nPXr0ICEhgfbt23Pp0iWbxu1IJKmD5UvEHj4MHTsaXe8tWhhlXytVKvSU2NgkwsO/4PjxRDw83Jg+\nvR1jxjTHzU2WSs0mS5gK4dySk5MZNWoU169fp0yZMtSqVYvFixcD0KdPH0aPHp1njfLcypUrx+TJ\nk20ZrkOSpA6WrSa3axc8/7xR9rVjR1i3zqyyr/PmHeL48URq1apEVFQvmjSx09KvDkZa5kK4jiZN\nmrB///589wUEBJCRkXHP9vPnz9+zLTg42CXfUQdJ6gZLTZJbuxYGDDDKvg4YAMuXm132debMZ/H3\n9+Kvf32ScuW8ShaHk5CELoQQxSOz38Eyr7MtWgRhYUZCHzMGPv200IR+8GA8nTqtIiUlHYCyZT2Z\nNq2dJPRccne1y6x2IYQomiR1gFslnPn+7rvwl78Ys+jfeQfmzCmwjntWlmb69O9p1Wo5X399mlmz\n8u9qclW5i8hkk0QuhBDmke53KNlEuWXL4G9/M2q3f/QRvPJKgYf+9lsygwZtYOfOswCMHduMiIhW\n9xOx08qvu10IIYR5JKnD/Y+pHzxotNABFi8utOzr9u2nGTRoI5cvpxAQ4EtkZHc6dy76nXVnV9A7\n5/Z6R1YIIUozSepwf7PfExKgZ0+jpvvIkYUm9J9+SqBDh1UAtG0bzMqVPXnooXIlCNh5SBEZIYSw\nHBlTh+JPlLt926jlfukStG5tjKEX4oknHmTo0BDeeactO3cOlIROweVdZTKcEK7Nz+9/1TO3bt1K\nnTp1+PXXX5kyZQq+vr5cvnw532OVUkyYMCHn86xZs5gyZYpNYnYk0lLXuvjd76NHww8/QFCQ8Rpb\nPrPcV68+QYMGD9CwoXHNJUu6ocxYM91ZFLb86d2kZS6EuNs333zD6NGj2b59e05VuYCAAN5//32m\nT59+z/FeXl6sX7+e119/nYCAAFuH6zAkqWekQOYtKOMDHmbUV//4Y2P83NsbNm6EB/JOrktOTmfU\nqK+JjDxK3boB/PjjK3h7l3G6hF6cpF0QeedcCJGff/3rX7z88sts3bqVRx55JGf70KFDiYyMZPLk\nyVS6q0pnmTJlGD58OHPmzOHdd9+1dcgOQ5J67nXUi0q8338Po0YZ3y9eDE2a5Nl99OhvhIev49Sp\nq3h7l2Hs2OZ4eblbIWj7KW4LXJK2EKWUtRoiuvBJsLdv3+b5559nz549PPbYY3n2+fn5MXToUD78\n8EOmTp16z7kjR46kYcOGTJo0yaIhlyaS1M0dT4+Ph969jeIy48bBwIE5u7TWzJ9/iIkTd5Kefof6\n9QOJju5N/foWqiVvJ0UlcEnaQghL8/DwoEWLFixdupQPP/zwnv2jR48mJCSEiRMn3rPP39+fQYMG\nMXfuXHx8fGwRrsORpG7OzPe0NGOme2IiPP00zJiRZ/cLL2xg9eoTAIwY0YTZs9vj42NeeVhHIS1w\nIUQeRbSorcXNzY3PP/+cZ555hvfee4833ngjz/4KFSrQv39/FixYkO/5Y8eOpXHjxgwZMsQW4Toc\nSepFTZLTGkaMMFZeCw6G6Ggok/exPffcw2zd+h+WLOlKr171rBuvhUlrXAjhaHx9ffnqq6948skn\nqVKlCi+99FKe/ePHj6dp06ZkZmbec26lSpXo27cvS5cuZejQobYK2WFIUk8tokTsvHmwYgX4S7Q+\nvQAADYhJREFU+BgT4wICyMzM4ujR3wgNNVZSGzSoEZ061Xb4dc8lgQshSotKlSqxbds2WrduTWBg\nYJ59AQEB9OjRgzkFvE48YcIE5s+fb4swHY4k9cJKxO7eDePHG98vXw6NGnHx4g36919PTMwlYmJe\npn79B1BKOXRCl2QuhCgtkpOTc76vVq0a586dA6Bbt255jps9ezazZ8/O97wqVaqQmppq5UgdkyT1\ngsbUz5+HPn3gzh2YPBnCwti4MY6hQzfx++9pPPigH9evp9k83OK6O6FLAhdCCOclST2/MfXsiXFX\nr0L79qS9OZUJI79i4cIYADp3rs3y5d0drnVeWItckrkQQjg/Ser5tdTHjoWffoJHHuHU3xfSt8Vy\njh9PxMPDjRkznmXMmGYOU0zGnFnrktCFEMI1SFK/e6LcmjVG1TgvL1i7Fu3jz+nT16hduxJRUb1p\n3PhBu4UqCVwIIURhXDupZ6bB7RvgVga8K8CpUzB8OCl44DtnDuqJJ3gM2Lq1P40bP0i5cl42C03e\nGxdCCFFcrp3Uc1rpD0DabejblwPJFehXdhBvejYj+w3Hp54KtloIxa2hLglcCCFEQVx76dVc4+lZ\no0Yz/Xg5nmQo51M8iVxxDG3hikrZy43m/irqVbPcS5LKsqRCCFewceNGlFLExcUBsGfPHrp06ZLn\nmMGDB7Nu3ToAMjIyiIiIoHbt2jRu3Jg///nPfP311zaP2xFYtaWulOoAfAi4A0u01tPu2q9M+zsB\nqcBgrfWP1owpD9M76r/tLcPApbfZxbMAjB/fnPfee6bQyXCWWKUsm7S+hRDif9asWUOrVq1Ys2ZN\nvgu33O3NN98kISGBn3/+GS8vLxITE9m7d68NInU8VkvqSil3YAHwLBAPHFZKbdZan8x1WEegtumr\nGfCR6b+2cfMS2/bVYtCGNiRRlgA/N1ZEh9OpU22LJu3cJIELIUTBkpOT+f7779m9ezddu3YtMqmn\npqbyySefcO7cOby8jHlPVapUoW/fvrYI1+FYs6X+J+C01vosgFIqCugO5E7q3YFPtdHPfUApVUEp\n9aDWOsGKceWYMmYE678bQRJlqVf2LCeHb6Dz4bfgsHnnS4IWQjgzpQpOqB9/3IXhw43lpxcvPsIr\nr2wp8Fit3zb7nps2baJDhw7UqVOHypUrc+TIkUKPP336NNWrV8ff39/sezgzayb1qsDFXJ/jubcV\nnt8xVYE8SV0pNRwYDlC9enWLBajdNSvc1jG/wqNEvbwPfPKOoUvSFkII21qzZg1jxowBIDw8nDVr\n1tC1a9d8j3WUeiGOpFTMftdaLwYWA4SGhlps9trU3Rq0ZmlWJkvdS9dSqUIIYW3mtrCHD2+S02ov\niWvXrvHtt99y4sQJlFLcuXMHpRQvvvgiv//++z3HBgQEUKtWLS5cuMDNmzeltY51Z7//F6iW63OQ\naVtxj7EupUASuhBC2N26desYOHAgv/76K+fPn+fixYvUrFmTa9eucenSJWJjYwH49ddfOXbsGCEh\nIfj6+vLSSy8xZswY0tPTAUhKSmLt2rX2/KPYjTWT+mGgtlKqplLKEwgHNt91zGZgkDI0B27Yajxd\nCCGEY1mzZg09evTIs61Xr15ERUWxcuVKhgwZQkhICL1792bJkiWUL18egHfeeYfAwEDq1atHgwYN\n6NKli8u22pWl38XOc3GlOgEfYLzStkxr/a5SagSA1nqR6ZW2+UAHjFfahmitYwq7ZmhoqI6JKfQQ\nIYQQ9yE2Npa6devaOwyXl9/fg1LqiNY6tKhzrTqmrrXeCmy9a9uiXN9rYKQ1YxBCCCFchWtXlBNC\nCCGciCR1IYQQwklIUhdCCJHDmvOsRNFK+vwlqQshhADA29ubq1evSmK3E601V69exdvb+76vUSqK\nzwghhLC+oKAg4uPjSUpKsncoLsvb25ugoKD7Pl+SuhBCCAA8PDyoWbOmvcMQJSDd70IIIYSTkKQu\nhBBCOAlJ6kIIIYSTsGqZWGtQSiUBv1rwkgHAFQtez1XJcyw5eYYlJ8+w5OQZlpw1nmENrXVgUQeV\nuqRuaUqpGHPq6YrCyXMsOXmGJSfPsOTkGZacPZ+hdL8LIYQQTkKSuhBCCOEkJKnDYnsH4CTkOZac\nPMOSk2dYcvIMS85uz9Dlx9SFEEIIZyEtdSGEEMJJuExSV0p1UEqdUkqdVkpF5LNfKaXmmvYfV0o1\ntkecjsyMZzjA9OxOKKX2K6Ua2SNOR1bUM8x1XFOlVKZSqrct4ystzHmOSqk2SqmjSqlflFJ7bR2j\nozPj/+fySqkvlVLHTM9wiD3idFRKqWVKqctKqZ8L2G+fnKK1dvovwB04AzwMeALHgHp3HdMJ+BpQ\nQHPgoL3jdqQvM59hC6Ci6fuO8gyL/wxzHfctsBXobe+4He3LzJ/FCsBJoLrp8wP2jtuRvsx8hm8A\n003fBwLXAE97x+4oX0BroDHwcwH77ZJTXKWl/ifgtNb6rNY6HYgCut91THfgU204AFRQSj1o60Ad\nWJHPUGu9X2v9u+njAeD+lxpyTub8HAKMAr4ALtsyuFLEnOfYH1ivtb4AoLWWZ5mXOc9QA+WUUgrw\nw0jqmbYN03Fprf+F8UwKYpec4ipJvSpwMdfneNO24h7jyor7fF7C+C1V/E+Rz1ApVRXoAXxkw7hK\nG3N+FusAFZVSe5RSR5RSg2wWXelgzjOcD9QFLgEngDFa6yzbhOcU7JJTZOlVYXFKqbYYSb2VvWMp\nhT4AJmuts4wGkrhPZYAmwDOAD/CDUuqA1vrf9g2rVGkPHAWeBh4BdiqlvtNa37RvWKIwrpLU/wtU\ny/U5yLStuMe4MrOej1KqIbAE6Ki1vmqj2EoLc55hKBBlSugBQCelVKbWeqNtQiwVzHmO8cBVrXUK\nkKKU+hfQCJCkbjDnGQ4BpmljgPi0Uuoc8BhwyDYhlnp2ySmu0v1+GKitlKqplPIEwoHNdx2zGRhk\nmrHYHLihtU6wdaAOrMhnqJSqDqwHBkqLKF9FPkOtdU2tdbDWOhhYB7wqCf0e5vz/vAlopZQqo5Ty\nBZoBsTaO05GZ8wwvYPR0oJSqAjwKnLVplKWbXXKKS7TUtdaZSqnXgO0Ysz6Xaa1/UUqNMO1fhDHT\nuBNwGkjF+C1VmJj5DN8CKgMLTS3NTC0LQ+Qw8xmKIpjzHLXWsUqpbcBxIAtYorXO99UjV2Tmz+I/\ngEil1AmMGdyTtdayepuJUmoN0AYIUErFA28DHmDfnCIV5YQQQggn4Srd70IIIYTTk6QuhBBCOAlJ\n6kIIIYSTkKQuhBBCOAlJ6kIIIYSTkKQuhI0ppe6YVg/L/gou5NjgglaBKuY995hW5DqmlNqnlHr0\nPq4xIrvcqlJqsFLqoVz7liil6lk4zsNKqRAzzhlrehddCJcnSV0I27ultQ7J9XXeRvcdoLVuBKwA\nZhb3ZNP735+aPg4GHsq1b5jW+qRFovxfnAsxL86xgCR1IZCkLoRDMLXIv1NK/Wj6apHPMfWVUodM\nrfvjSqnapu0v5Nr+sVLKvYjb/QuoZTr3GaXUT0qpE6b1ob1M26cppU6a7jPLtG2KUmqiMtZ4DwVW\nme7pY2phh5pa8zmJ2NSin3+fcf5ArgUwlFIfKaVilLG291TTttEYv1zsVkrtNm17Tin1g+k5rlVK\n+RVxHyGchiR1IWzPJ1fX+wbTtsvAs1rrxkAYMDef80YAH2qtQzCSarxSqq7p+Jam7XeAAUXcvytw\nQinlDUQCYVrrxzEqTP5FKVUZY6W4+lrrhsA7uU/WWq8DYjBa1CFa61u5dn9hOjdbGEYt+/uJswOQ\nu0TuX00VChsCTymlGmqt52KsItZWa91WKRUA/A1oZ3qWMcD4Iu4jhNNwiTKxQjiYW6bElpsHMN80\nhnwHY+nQu/0A/FUpFYSxVvh/lFLPYKxGdthUmteHgtdhX6WUugWcx1iz/VHgXK46/SuAkRhLbqYB\nS5VSW4At5v7BtNZJSqmzplrX/8FYAGSf6brFidMTYw3v3M+pr1JqOMa/Ww8C9TDKwObW3LR9n+k+\nnhjPTQiXIEldCMcwDkjEWEnMDSOp5qG1Xq2UOgh0BrYqpV7BqMm9Qmv9uhn3GKC1jsn+oJSqlN9B\nprrgf8JYzKM38BrG8pvmigL6AnHABq21VkaGNTtO4AjGePo8oKdSqiYwEWiqtf5dKRUJeOdzrgJ2\naq37FSNeIZyGdL8L4RjKAwla6yxgIMYiG3kopR4Gzpq6nDdhdEN/A/RWSj1gOqaSUqqGmfc8BQQr\npWqZPg8E9prGoMtrrbdi/LLRKJ9z/wDKFXDdDUB3oB9Ggqe4cZqW+3wTaK6UegzwB1KAG8pYMaxj\nAbEcAFpm/5mUUmWVUvn1egjhlCSpC+EYFgIvKqWOYXRZp+RzTF/gZ6XUUaAB8KlpxvnfgB1KqePA\nToyu6SJprdMwVo5aa1qJKwtYhJEgt5iu9z35j0lHAouyJ8rddd3fMZY5raG1PmTaVuw4TWP17wP/\np7U+BvyE0fpfjdGln20xsE0ptVtrnYQxM3+N6T4/YDxPIVyCrNImhBBCOAlpqQshhBBOQpK6EEII\n4SQkqQshhBBOQpK6EEII4SQkqQshhBBOQpK6EEII4SQkqQshhBBOQpK6EEII4ST+H7JYVUf13AJU\nAAAAAElFTkSuQmCC\n",
      "text/plain": [
       "<matplotlib.figure.Figure at 0x2772d60a4e0>"
=======
      "image/png": "iVBORw0KGgoAAAANSUhEUgAAAe8AAAGACAYAAACEK+pCAAAABHNCSVQICAgIfAhkiAAAAAlwSFlz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\nTkSuQmCC\n",
      "text/plain": [
       "<matplotlib.figure.Figure at 0x207949f0b70>"
>>>>>>> 062ddbffe39627b5bb4c23475694cda9a874a8c7
      ]
     },
     "metadata": {},
     "output_type": "display_data"
    }
   ],
   "source": [
<<<<<<< HEAD
    "fpr = dict()\n",
    "tpr = dict()\n",
    "roc_auc = dict()\n",
    "\n",
    "nb_fpr, nb_tpr, _ = metrics.roc_curve(validation_labels, NB_pipeline.predict_proba(validation_text)[:,1])\n",
    "svc_fpr, svc_tpr, _ = metrics.roc_curve(validation_labels, SVC_pipeline.predict_proba(validation_text)[:,1])\n",
    "knn_fpr, knn_tpr, _ = metrics.roc_curve(validation_labels, KNN_pipeline.predict_proba(validation_text)[:,1])\n",
    "\n",
    "fig, ax = plt.subplots(sharey=True, figsize=(8,6))\n",
    "ax.plot(nb_fpr, nb_tpr, color='darkorange', lw=2, label='ROC curve')\n",
    "ax.plot(svc_fpr, svc_tpr, color='green', lw=2, label='ROC curve')\n",
    "ax.plot(knn_fpr, knn_tpr, color='red', lw=2, label='ROC curve')\n",
    "ax.plot([0,1],[0,1], color='navy', lw=2, linestyle='--')\n",
    "ax.set_xlabel('False Positive Rate')\n",
    "ax.set_ylabel('True Positive Rate')\n",
    "ax.set_title('Receiver Operating Characteristic')\n",
    "ax.legend(['Naive Bayes', 'SVM', 'KNN', 'AUC'],loc=\"lower right\")\n",
=======
    "nb_fpr, nb_tpr, __ = metrics.roc_curve(test_labels, nb_proba[:,1])\n",
    "svc_fpr, svc_tpr, __ = metrics.roc_curve(test_labels, svc_proba[:,1])\n",
    "knn_fpr, knn_tpr, __ = metrics.roc_curve(test_labels, knn_proba[:,1])\n",
    "\n",
    "fig, ax = plt.subplots(figsize=(8,6))\n",
    "ax.set_title(\"Receiver Operating Characteristic\")\n",
    "ax.set_xlabel('False Positive Rate')\n",
    "ax.set_ylabel('True Positive Rate')\n",
    "\n",
    "ax.plot(nb_fpr, nb_tpr, color='darkorange', label='NB')\n",
    "plt.plot(svc_fpr, svc_tpr, color = 'red', label='SVC')\n",
    "plt.plot(knn_fpr, knn_tpr, color = 'green', label = 'KNN')\n",
    "ax.plot([0,1], [0,1], 'r--', color='navy')\n",
    "\n",
    "ax.legend(loc=\"lower right\")\n",
    "\n",
    "\n",
>>>>>>> 062ddbffe39627b5bb4c23475694cda9a874a8c7
    "plt.show()"
   ]
  },
  {
   "cell_type": "code",
   "execution_count": null,
   "metadata": {
    "collapsed": true
   },
   "outputs": [],
   "source": []
  }
 ],
 "metadata": {
  "kernelspec": {
   "display_name": "Python 3",
   "language": "python",
   "name": "python3"
  },
  "language_info": {
   "codemirror_mode": {
    "name": "ipython",
    "version": 3
   },
   "file_extension": ".py",
   "mimetype": "text/x-python",
   "name": "python",
   "nbconvert_exporter": "python",
   "pygments_lexer": "ipython3",
   "version": "3.6.1"
  }
 },
 "nbformat": 4,
 "nbformat_minor": 2
}
