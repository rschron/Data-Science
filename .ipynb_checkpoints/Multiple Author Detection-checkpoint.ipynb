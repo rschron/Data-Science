{
 "cells": [
  {
   "cell_type": "code",
   "execution_count": 1,
   "metadata": {
    "collapsed": true
   },
   "outputs": [],
   "source": [
    "import numpy as np\n",
    "import pandas as pd\n",
    "import matplotlib.pyplot as plt\n",
    "from sklearn.feature_extraction.text import TfidfTransformer\n",
    "from sklearn.feature_extraction.text import CountVectorizer\n",
    "from sklearn.pipeline import Pipeline\n",
    "from sklearn.naive_bayes import BernoulliNB\n",
    "from sklearn.neighbors import KNeighborsClassifier\n",
    "from sklearn import metrics\n",
    "from sklearn.svm import SVC\n",
    "from sklearn.model_selection import GridSearchCV\n",
    "import time\n",
    "import json\n",
    "import os"
   ]
  },
  {
   "cell_type": "code",
   "execution_count": 2,
   "metadata": {
    "collapsed": true
   },
   "outputs": [],
   "source": [
    "def DataAggregator(path):\n",
    "    text_dict = {}\n",
    "    json_dict = {}\n",
    "    label_df = pd.DataFrame(columns=['changes', 'positions','file'])\n",
    "\n",
    "    for file in os.listdir(path):\n",
    "        if file.endswith('.txt'):\n",
    "            with open(path+file, 'r', encoding='utf-8') as myfile:\n",
    "                text_dict[file.replace('problem-', '').replace('.txt', '')] = myfile.read().replace('\\n', '')\n",
    "        else:\n",
    "            with open(path+file, 'r', encoding='utf-8') as myfile:\n",
    "                data = json.load(myfile)\n",
    "                json_dict[file.replace('problem-', '').replace('.truth', '')] = data['changes']\n",
    "\n",
    "    df = pd.DataFrame(list(text_dict.items()), columns=['file', 'text'])\n",
    "    label_df = pd.DataFrame(list(json_dict.items()), columns = ['file', 'changes'])\n",
    "\n",
    "    output_df = df.merge(label_df,on='file')\n",
    "    output_df = output_df.drop('file', axis = 1)\n",
    "    return output_df"
   ]
  },
  {
   "cell_type": "code",
   "execution_count": 3,
   "metadata": {
    "collapsed": true
   },
   "outputs": [],
   "source": [
    "#Convert the data sets to data frames\n",
    "test_df = DataAggregator('C:/Users/RSC/PyProjects/Data-Science/Data/pan18-style-change-detection-test-dataset-2018-01-31/')\n",
    "training_df = DataAggregator('C:/Users/RSC/PyProjects/Data-Science/Data/pan18-style-change-detection-training-dataset-2018-01-31/')\n",
    "validation_df = DataAggregator('C:/Users/RSC/PyProjects/Data-Science/Data/pan18-style-change-detection-validation-dataset-2018-01-31/')\n"
   ]
  },
  {
   "cell_type": "code",
   "execution_count": 4,
   "metadata": {},
   "outputs": [
    {
     "name": "stdout",
     "output_type": "stream",
     "text": [
      "Training Text: 2980, Training Labels: 2980\n",
      "Test Text: 1352, Test Labels: 1352\n",
      "Validation Text: 1492, Validation Labels: 1492\n"
     ]
    }
   ],
   "source": [
    "#Split the data into text and labels\n",
    "training_labels = training_df['changes']\n",
    "validation_labels = validation_df['changes']\n",
    "test_labels = test_df['changes']\n",
    "\n",
    "training_text = list(training_df['text'])\n",
    "validation_text = list(validation_df['text'])\n",
    "test_text = list(test_df['text'])\n",
    "\n",
    "print(\"Training Text: \" + str(len(training_text)) + \", Training Labels: \" + str(len(training_labels)))\n",
    "print(\"Test Text: \" + str(len(test_text)) + \", Test Labels: \" + str(len(test_labels)))\n",
    "print(\"Validation Text: \" + str(len(validation_text)) + \", Validation Labels: \" + str(len(validation_labels)))"
   ]
  },
  {
   "cell_type": "code",
   "execution_count": 5,
   "metadata": {
    "collapsed": true
   },
   "outputs": [],
   "source": [
    "#Builds a pipeline\n",
    "NB_pipeline = Pipeline([('vect', CountVectorizer(strip_accents = 'ascii', ngram_range=(1,5), analyzer='word', stop_words='english')),\n",
    "                         ('tfidf', TfidfTransformer()),\n",
    "                         ('clf', BernoulliNB())])\n",
    "\n",
    "SVC_pipeline = Pipeline([('vect', CountVectorizer(strip_accents = 'ascii', ngram_range=(1,5), analyzer='word', stop_words='english')),\n",
    "                        ('tfidf', TfidfTransformer()),\n",
    "                        ('clf', SVC(C=0.5, probability=True))])\n",
    "\n",
    "KNN_pipeline = Pipeline([('vect', CountVectorizer(strip_accents = 'ascii', ngram_range=(1,5), analyzer='word', stop_words='english')),\n",
    "                        ('tfidf', TfidfTransformer()),\n",
    "                        ('clf', KNeighborsClassifier(20))])"
   ]
  },
  {
   "cell_type": "code",
   "execution_count": 6,
   "metadata": {},
   "outputs": [
    {
     "data": {
      "text/plain": [
       "'\\n#Find best parameters\\nparameters = {\\'vect__ngram_range\\': [(1,5)],\\n              \\'tfidf__use_idf\\': (True, False),\\n              \\'clf__C\\':[0.5,1.0,2.0,5.0]}\\n\\n#nb_search = GridSearchCV(NB_pipeline, parameters, n_jobs=-1)\\n#nb_search = nb_search.fit(training_text, training_labels)\\n\\nsvc_search = GridSearchCV(SVC_pipeline, parameters, n_jobs=-1)\\nsvc_search = svc_search.fit(training_text, training_labels)\\n\\nprint(\"Best NB Score: \" + str(nb_search.best_score_) + \" -- Best NB Params: \" + str(nb_search.best_params_))\\nprint(\"Best SVC Score: \" + str(svc_search.best_score_) + \" -- Best SVC Params: \" + str(svc_search.best_params_))\\n'"
      ]
     },
     "execution_count": 6,
     "metadata": {},
     "output_type": "execute_result"
    }
   ],
   "source": [
    "'''\n",
    "#Find best parameters\n",
    "parameters = {'vect__ngram_range': [(1,5)],\n",
    "              'tfidf__use_idf': (True, False),\n",
    "              'clf__C':[0.5,1.0,2.0,5.0]}\n",
    "\n",
    "#nb_search = GridSearchCV(NB_pipeline, parameters, n_jobs=-1)\n",
    "#nb_search = nb_search.fit(training_text, training_labels)\n",
    "\n",
    "svc_search = GridSearchCV(SVC_pipeline, parameters, n_jobs=-1)\n",
    "svc_search = svc_search.fit(training_text, training_labels)\n",
    "\n",
    "print(\"Best NB Score: \" + str(nb_search.best_score_) + \" -- Best NB Params: \" + str(nb_search.best_params_))\n",
    "print(\"Best SVC Score: \" + str(svc_search.best_score_) + \" -- Best SVC Params: \" + str(svc_search.best_params_))\n",
    "'''"
   ]
  },
  {
   "cell_type": "code",
   "execution_count": 7,
   "metadata": {},
   "outputs": [
    {
     "name": "stdout",
     "output_type": "stream",
     "text": [
      "Naive Bayes Accuracy: 0.881367292225 -- Run time 74.57573342323303\n",
      "[[695 126]\n",
      " [ 51 620]]\n",
      "SVM Accuracy: 0.658847184987 -- Run time 549.5619184970856\n",
      "[[592 355]\n",
      " [154 391]]\n",
      "KNN Accuracy: 0.563002680965 -- Run time 38.25373101234436\n",
      "[[289 195]\n",
      " [457 551]]\n"
     ]
    }
   ],
   "source": [
    "#Train the models and fit to the validation set\n",
    "start = time.time()\n",
    "NB_pipeline.fit(training_text, training_labels)\n",
    "nb_prediction = NB_pipeline.predict(validation_text)\n",
    "print(\"Naive Bayes Accuracy: \" + str(metrics.accuracy_score(nb_prediction, validation_labels)) + \" -- Run time \" + str(time.time()-start))\n",
    "nb_confusion = metrics.confusion_matrix(nb_prediction, validation_labels)\n",
    "print(nb_confusion)\n",
    "\n",
    "\n",
    "start = time.time()\n",
    "SVC_pipeline.fit(training_text, training_labels)\n",
    "svc_prediction = SVC_pipeline.predict(validation_text)\n",
    "print(\"SVM Accuracy: \" + str(metrics.accuracy_score(svc_prediction, validation_labels)) + \" -- Run time \" + str(time.time()-start))\n",
    "svc_confusion = metrics.confusion_matrix(svc_prediction, validation_labels)\n",
    "print(svc_confusion)\n",
    "\n",
    "start = time.time()\n",
    "KNN_pipeline.fit(training_text, training_labels)\n",
    "knn_prediction = KNN_pipeline.predict(validation_text)\n",
    "print(\"KNN Accuracy: \" + str(metrics.accuracy_score(knn_prediction, validation_labels)) + \" -- Run time \" + str(time.time()-start))\n",
    "knn_confusion = metrics.confusion_matrix(knn_prediction, validation_labels)\n",
    "print(knn_confusion)"
   ]
  },
  {
   "cell_type": "code",
   "execution_count": 8,
   "metadata": {},
   "outputs": [
    {
     "data": {
      "image/png": "[encoded data removed]",
      "text/plain": [
       "<matplotlib.figure.Figure at 0x2772d60a4e0>"
      ]
     },
     "metadata": {},
     "output_type": "display_data"
    }
   ],
   "source": [
    "fpr = dict()\n",
    "tpr = dict()\n",
    "roc_auc = dict()\n",
    "\n",
    "nb_fpr, nb_tpr, _ = metrics.roc_curve(validation_labels, NB_pipeline.predict_proba(validation_text)[:,1])\n",
    "svc_fpr, svc_tpr, _ = metrics.roc_curve(validation_labels, SVC_pipeline.predict_proba(validation_text)[:,1])\n",
    "knn_fpr, knn_tpr, _ = metrics.roc_curve(validation_labels, KNN_pipeline.predict_proba(validation_text)[:,1])\n",
    "\n",
    "fig, ax = plt.subplots(sharey=True, figsize=(8,6))\n",
    "ax.plot(nb_fpr, nb_tpr, color='darkorange', lw=2, label='ROC curve')\n",
    "ax.plot(svc_fpr, svc_tpr, color='green', lw=2, label='ROC curve')\n",
    "ax.plot(knn_fpr, knn_tpr, color='red', lw=2, label='ROC curve')\n",
    "ax.plot([0,1],[0,1], color='navy', lw=2, linestyle='--')\n",
    "ax.set_xlabel('False Positive Rate')\n",
    "ax.set_ylabel('True Positive Rate')\n",
    "ax.set_title('Receiver Operating Characteristic')\n",
    "ax.legend(['Naive Bayes', 'SVM', 'KNN', 'AUC'],loc=\"lower right\")\n",
    "plt.show()"
   ]
  },
  {
   "cell_type": "code",
   "execution_count": null,
   "metadata": {
    "collapsed": true
   },
   "outputs": [],
   "source": []
  }
 ],
 "metadata": {
  "kernelspec": {
   "display_name": "Python 3",
   "language": "python",
   "name": "python3"
  },
  "language_info": {
   "codemirror_mode": {
    "name": "ipython",
    "version": 3
   },
   "file_extension": ".py",
   "mimetype": "text/x-python",
   "name": "python",
   "nbconvert_exporter": "python",
   "pygments_lexer": "ipython3",
   "version": "3.6.1"
  }
 },
 "nbformat": 4,
 "nbformat_minor": 2
}
